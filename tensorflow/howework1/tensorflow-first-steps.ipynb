{
 "cells": [
  {
   "cell_type": "code",
   "execution_count": 1,
   "metadata": {
    "collapsed": true
   },
   "outputs": [],
   "source": [
    "import tensorflow as tf\n",
    "import numpy as np"
   ]
  },
  {
   "cell_type": "code",
   "execution_count": 2,
   "metadata": {},
   "outputs": [
    {
     "name": "stdout",
     "output_type": "stream",
     "text": [
      "[ 3.  3.  3.  3.]\n"
     ]
    }
   ],
   "source": [
    "with tf.Session():\n",
    "    input1 = tf.constant([1.0, 1.0, 1.0, 1.0])\n",
    "    input2 = tf.constant([2.0, 2.0, 2.0, 2.0])\n",
    "    output = tf.add(input1, input2)\n",
    "    result = output.eval()\n",
    "    print(result)"
   ]
  },
  {
   "cell_type": "code",
   "execution_count": 3,
   "metadata": {},
   "outputs": [
    {
     "data": {
      "text/plain": [
       "array([[ 1.,  1.],\n",
       "       [ 1.,  1.],\n",
       "       [ 1.,  1.],\n",
       "       [ 1.,  1.]])"
      ]
     },
     "execution_count": 3,
     "metadata": {},
     "output_type": "execute_result"
    }
   ],
   "source": [
    "np.ones((4, 2))"
   ]
  },
  {
   "cell_type": "markdown",
   "metadata": {},
   "source": [
    "# Multiplying matrices"
   ]
  },
  {
   "cell_type": "code",
   "execution_count": 4,
   "metadata": {},
   "outputs": [
    {
     "name": "stdout",
     "output_type": "stream",
     "text": [
      "Input:\n",
      "[[ 1.  0.  0.  1.]]\n",
      "Weights:\n",
      "[[ 1.  1.]\n",
      " [ 1.  1.]\n",
      " [ 1.  1.]\n",
      " [ 1.  1.]]\n",
      "Output:\n",
      "[[ 2.  2.]]\n"
     ]
    }
   ],
   "source": [
    "import tensorflow as tf\n",
    "import numpy as np\n",
    "\n",
    "with tf.Session():\n",
    "    input_features = tf.constant(np.reshape([1, 0, 0, 1], (1, 4)).astype(np.float32))\n",
    "    weights = tf.constant(np.ones((4, 2)).astype(np.float32))\n",
    "    output = tf.matmul(input_features, weights)\n",
    "    print(\"Input:\")\n",
    "    print(input_features.eval())\n",
    "    print(\"Weights:\")\n",
    "    print(weights.eval())\n",
    "    print(\"Output:\")\n",
    "    print(output.eval())"
   ]
  },
  {
   "cell_type": "markdown",
   "metadata": {
    "collapsed": true
   },
   "source": [
    "# Use of variables"
   ]
  },
  {
   "cell_type": "code",
   "execution_count": 15,
   "metadata": {},
   "outputs": [
    {
     "name": "stdout",
     "output_type": "stream",
     "text": [
      "Making clear that we don't run the Tensorflow statements when we go over the line\n",
      "We run them with the 'eval' function or with 'sess.run'\n",
      "\n",
      "\n",
      "Tensor(\"Variable_14/read:0\", shape=(1, 2), dtype=float32)\n",
      "[[ 0.  0.]]\n",
      "\n",
      "\n",
      "\n",
      "\n",
      "(array([[-0.94827676,  0.48735237]], dtype=float32), array([[-0.94827676,  0.48735237]], dtype=float32))\n",
      "(array([[ 0.14984369,  0.33222651]], dtype=float32), array([[-0.79843307,  0.81957889]], dtype=float32))\n",
      "(array([[-0.01295328,  0.79080296]], dtype=float32), array([[-0.81138635,  1.61038184]], dtype=float32))\n",
      "(array([[-0.95725322,  0.83834505]], dtype=float32), array([[-1.76863956,  2.44872689]], dtype=float32))\n",
      "(array([[-0.64322996, -0.76451612]], dtype=float32), array([[-2.41186953,  1.68421078]], dtype=float32))\n"
     ]
    }
   ],
   "source": [
    "#@test {\"output\": \"ignore\"}\n",
    "import tensorflow as tf\n",
    "import numpy as np\n",
    "\n",
    "with tf.Session() as sess:\n",
    "    # Set up two variables, total and weights, that we'll change repeatedly.\n",
    "    total = tf.Variable(tf.zeros([1, 2]))\n",
    "    weights = tf.Variable(tf.random_uniform([1,2]))\n",
    "\n",
    "    # Initialize the variables we defined above.\n",
    "    tf.global_variables_initializer().run()\n",
    "\n",
    "    print(\"Making clear that we don't run the Tensorflow statements when we go over the line\")\n",
    "    print(\"We run them with the 'eval' function or with 'sess.run'\")\n",
    "    print(\"\\n\")\n",
    "    print(total)\n",
    "    print(total.eval())\n",
    "    print(\"\\n\")\n",
    "    print(\"\\n\")\n",
    "    \n",
    "    # This only adds the operators to the graph right now. The assignment\n",
    "    # and addition operations are not performed yet.\n",
    "    update_weights = tf.assign(weights, tf.random_uniform([1, 2], -1.0, 1.0))\n",
    "    update_total = tf.assign(total, tf.add(total, weights))\n",
    "  \n",
    "    for _ in range(5):\n",
    "        # Actually run the operation graph, so randomly generate weights and then\n",
    "        # add them into the total. Order does matter here. We need to update\n",
    "        # the weights before updating the total.\n",
    "        sess.run(update_weights)\n",
    "        sess.run(update_total)\n",
    "    \n",
    "        print(weights.eval(), total.eval())"
   ]
  },
  {
   "cell_type": "code",
   "execution_count": null,
   "metadata": {
    "collapsed": true
   },
   "outputs": [],
   "source": []
  }
 ],
 "metadata": {
  "kernelspec": {
   "display_name": "Python 2",
   "language": "python",
   "name": "python2"
  },
  "language_info": {
   "codemirror_mode": {
    "name": "ipython",
    "version": 2
   },
   "file_extension": ".py",
   "mimetype": "text/x-python",
   "name": "python",
   "nbconvert_exporter": "python",
   "pygments_lexer": "ipython2",
   "version": "2.7.14"
  }
 },
 "nbformat": 4,
 "nbformat_minor": 2
}
