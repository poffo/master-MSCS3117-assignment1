{
 "cells": [
  {
   "cell_type": "code",
   "execution_count": 1,
   "metadata": {
    "collapsed": true
   },
   "outputs": [],
   "source": [
    "import tensorflow as tf"
   ]
  },
  {
   "cell_type": "code",
   "execution_count": 2,
   "metadata": {
    "collapsed": true
   },
   "outputs": [],
   "source": [
    "hello = tf.constant('Hello, TensorFlow!')"
   ]
  },
  {
   "cell_type": "code",
   "execution_count": 3,
   "metadata": {
    "collapsed": true
   },
   "outputs": [],
   "source": [
    "sess = tf.Session()"
   ]
  },
  {
   "cell_type": "code",
   "execution_count": 4,
   "metadata": {},
   "outputs": [
    {
     "name": "stdout",
     "output_type": "stream",
     "text": [
      "Hello, TensorFlow!\n"
     ]
    }
   ],
   "source": [
    "print(sess.run(hello))"
   ]
  },
  {
   "cell_type": "markdown",
   "metadata": {
    "collapsed": true
   },
   "source": [
    "## Adding two vectors in TensorFlow\n"
   ]
  },
  {
   "cell_type": "code",
   "execution_count": 21,
   "metadata": {},
   "outputs": [
    {
     "name": "stdout",
     "output_type": "stream",
     "text": [
      "input1: \n",
      "Tensor(\"Const_41:0\", shape=(4,), dtype=float32)\n",
      "[ 1.  1.  1.  1.]\n",
      "result:  [ 5.  6.  7.  8.]\n"
     ]
    }
   ],
   "source": [
    "import tensorflow as tf\n",
    "\n",
    "with tf.Session():\n",
    "    input1 = tf.constant([1.0, 1.0, 1.0, 1.0])\n",
    "    input2 = tf.constant([4.0, 5.0, 6.0, 7.0])\n",
    "    output = tf.add(input1, input2)\n",
    "    print(\"input1: \")\n",
    "    print(input1)\n",
    "    print(input1.eval())\n",
    "    result = output.eval()\n",
    "    print(\"result: \", result)"
   ]
  },
  {
   "cell_type": "markdown",
   "metadata": {},
   "source": [
    "## Multiple operations\n"
   ]
  },
  {
   "cell_type": "code",
   "execution_count": 19,
   "metadata": {},
   "outputs": [
    {
     "name": "stdout",
     "output_type": "stream",
     "text": [
      "input2\n",
      "Tensor(\"Const_39:0\", shape=(4,), dtype=float32)\n",
      "[ 2.  2.  2.  2.]\n",
      "output:\n",
      "Tensor(\"Add_20:0\", shape=(4,), dtype=float32)\n",
      "[ 6.  6.  6.  6.]\n",
      "result:\n",
      "[ 6.  6.  6.  6.]\n"
     ]
    }
   ],
   "source": [
    "import tensorflow as tf\n",
    "\n",
    "with tf.Session():\n",
    "    input1 = tf.constant(1.0, shape=[4])\n",
    "    input2 = tf.constant(2.0, shape=[4])\n",
    "    input3 = tf.constant(3.0, shape=[4])\n",
    "    print(\"input2\")\n",
    "    print(input2)\n",
    "    print(input2.eval())\n",
    "    output = tf.add(tf.add(input1, input2), input3)\n",
    "    print(\"output:\")\n",
    "    print(output)\n",
    "    print(output.eval())\n",
    "    result = output.eval()\n",
    "    print(\"result:\")\n",
    "    print(result)"
   ]
  },
  {
   "cell_type": "markdown",
   "metadata": {},
   "source": [
    "##  Adding two matrices"
   ]
  },
  {
   "cell_type": "code",
   "execution_count": 17,
   "metadata": {},
   "outputs": [
    {
     "name": "stdout",
     "output_type": "stream",
     "text": [
      "input1: \n",
      "Tensor(\"Const_33:0\", shape=(2, 3), dtype=float32)\n",
      "[[ 1.  1.  1.]\n",
      " [ 1.  1.  1.]]\n",
      "input2: \n",
      "Tensor(\"Const_34:0\", shape=(2, 3), dtype=float32)\n",
      "[[ 1.  2.  3.]\n",
      " [ 4.  5.  6.]]\n",
      "[[ 2.  3.  4.]\n",
      " [ 5.  6.  7.]]\n"
     ]
    }
   ],
   "source": [
    "import tensorflow as tf\n",
    "import numpy as np\n",
    "\n",
    "with tf.Session():\n",
    "    input1 = tf.constant(1.0, shape=[2, 3])\n",
    "    input2 = tf.constant(np.reshape(np.arange(1.0, 7.0, dtype=np.float32), (2, 3)))\n",
    "    print(\"input1: \")\n",
    "    print(input1)\n",
    "    print(input1.eval())\n",
    "    print(\"input2: \")\n",
    "    print(input2)\n",
    "    print(input2.eval())\n",
    "    output = tf.add(input1, input2)\n",
    "    print(output.eval())"
   ]
  },
  {
   "cell_type": "markdown",
   "metadata": {},
   "source": [
    "##  Multiplying matrices\n"
   ]
  },
  {
   "cell_type": "code",
   "execution_count": 15,
   "metadata": {},
   "outputs": [
    {
     "name": "stdout",
     "output_type": "stream",
     "text": [
      "Input:\n",
      "[[ 1.  0.  0.  1.]]\n",
      "Weights:\n",
      "[[-0.42283544 -1.77805948]\n",
      " [ 0.18874162 -0.62736183]\n",
      " [-0.70631087  0.28112113]\n",
      " [-0.73524332 -0.63260752]]\n",
      "Output:\n",
      "[[-1.15807879 -2.41066694]]\n"
     ]
    }
   ],
   "source": [
    "#@test {\"output\": \"ignore\"}\n",
    "import tensorflow as tf\n",
    "import numpy as np\n",
    "\n",
    "with tf.Session():\n",
    "    input_features = tf.constant(np.reshape([1, 0, 0, 1], (1, 4)).astype(np.float32))\n",
    "    weights = tf.constant(np.random.randn(4, 2).astype(np.float32))\n",
    "    output = tf.matmul(input_features, weights)\n",
    "    print(\"Input:\")\n",
    "    print(input_features.eval())\n",
    "    print(\"Weights:\")\n",
    "    print(weights.eval())\n",
    "    print(\"Output:\")\n",
    "    print(output.eval())"
   ]
  },
  {
   "cell_type": "markdown",
   "metadata": {},
   "source": [
    "## Use of variables\n"
   ]
  },
  {
   "cell_type": "code",
   "execution_count": 39,
   "metadata": {},
   "outputs": [
    {
     "name": "stdout",
     "output_type": "stream",
     "text": [
      "total:\n",
      "Tensor(\"Variable_31/read:0\", shape=(1, 2), dtype=float32)\n",
      "\n",
      "I am not able to print the `eval` of total, since it was not (yet) initialized\n",
      "total\n",
      "[[ 1.  1.]]\n",
      "At this point, after the global_variables_initializer().run() operation, the variables are initialized.\n",
      "\n",
      "update_weights\n",
      "[[-0.97377563  0.78788519]]\n",
      "\n",
      "update_total\n",
      "[[ 0.02622437  1.78788519]]\n",
      "\n",
      "\n",
      "0\n",
      "[[ 0.45391965  0.86292505]] [[ 0.48014402  2.65081024]]\n",
      "\n",
      "1\n",
      "[[-0.08955789 -0.30757046]] [[ 0.39058614  2.34323978]]\n",
      "\n",
      "2\n",
      "[[-0.39798188 -0.63343954]] [[-0.00739574  1.70980024]]\n",
      "\n",
      "3\n",
      "[[-0.17250752  0.07714272]] [[-0.17990327  1.78694296]]\n",
      "\n",
      "4\n",
      "[[-0.41703868 -0.1711731 ]] [[-0.59694195  1.61576986]]\n",
      "\n"
     ]
    }
   ],
   "source": [
    "#@test {\"output\": \"ignore\"}\n",
    "import tensorflow as tf\n",
    "import numpy as np\n",
    "\n",
    "with tf.Session() as sess:\n",
    "    # Set up two variables, total and weights, that we'll change repeatedly.\n",
    "    # original:\n",
    "    #    total = tf.Variable(tf.zeros([1, 2]))\n",
    "    total = tf.Variable(tf.ones([1, 2]))\n",
    "    print(\"total:\")\n",
    "    print(total)\n",
    "    print()\n",
    "    print(\"I am not able to print the `eval` of total, since it was not (yet) initialized\")\n",
    "    weights = tf.Variable(tf.random_uniform([1,2]))\n",
    "    \n",
    "    # Initialize the variables we defined above.\n",
    "    tf.global_variables_initializer().run()\n",
    "\n",
    "    print(\"total\")\n",
    "    print(total.eval())\n",
    "    print(\"At this point, after the global_variables_initializer().run() operation, the variables are initialized.\")\n",
    "    print()\n",
    "    \n",
    "    # This only adds the operators to the graph right now. The assignment\n",
    "    # and addition operations are not performed yet.\n",
    "    update_weights = tf.assign(weights, tf.random_uniform([1, 2], -1.0, 1.0))\n",
    "    update_total = tf.assign(total, tf.add(total, weights))\n",
    "\n",
    "    print(\"update_weights\")\n",
    "    print(update_weights.eval())\n",
    "    print()\n",
    "\n",
    "    print(\"update_total\")\n",
    "    print(update_total.eval())\n",
    "    print()\n",
    "    print()\n",
    "\n",
    "    for _ in range(5):\n",
    "        # Actually run the operation graph, so randomly generate weights and then\n",
    "        # add them into the total. Order does matter here. We need to update\n",
    "        # the weights before updating the total.\n",
    "        sess.run(update_weights)\n",
    "        sess.run(update_total)\n",
    "\n",
    "        print(_)\n",
    "        print(weights.eval(), total.eval())\n",
    "        print()\n"
   ]
  },
  {
   "cell_type": "code",
   "execution_count": null,
   "metadata": {
    "collapsed": true
   },
   "outputs": [],
   "source": []
  }
 ],
 "metadata": {
  "kernelspec": {
   "display_name": "Python 2",
   "language": "python",
   "name": "python2"
  },
  "language_info": {
   "codemirror_mode": {
    "name": "ipython",
    "version": 2
   },
   "file_extension": ".py",
   "mimetype": "text/x-python",
   "name": "python",
   "nbconvert_exporter": "python",
   "pygments_lexer": "ipython2",
   "version": "2.7.14"
  }
 },
 "nbformat": 4,
 "nbformat_minor": 2
}
