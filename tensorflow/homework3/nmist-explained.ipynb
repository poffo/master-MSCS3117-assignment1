{
 "cells": [
  {
   "cell_type": "markdown",
   "metadata": {},
   "source": [
    "# Importing libraries"
   ]
  },
  {
   "cell_type": "code",
   "execution_count": 1,
   "metadata": {},
   "outputs": [
    {
     "name": "stderr",
     "output_type": "stream",
     "text": [
      "/anaconda2/lib/python2.7/site-packages/h5py/__init__.py:34: FutureWarning: Conversion of the second argument of issubdtype from `float` to `np.floating` is deprecated. In future, it will be treated as `np.float64 == np.dtype(float).type`.\n",
      "  from ._conv import register_converters as _register_converters\n",
      "Using TensorFlow backend.\n"
     ]
    }
   ],
   "source": [
    "from keras.datasets import mnist"
   ]
  },
  {
   "cell_type": "markdown",
   "metadata": {},
   "source": [
    "# Loading predefined data"
   ]
  },
  {
   "cell_type": "code",
   "execution_count": 22,
   "metadata": {
    "collapsed": true
   },
   "outputs": [],
   "source": [
    "(train_images, train_labels), (test_images, test_labels) = mnist.load_data()"
   ]
  },
  {
   "cell_type": "markdown",
   "metadata": {},
   "source": [
    "# Exploring the data dimensions"
   ]
  },
  {
   "cell_type": "code",
   "execution_count": 23,
   "metadata": {},
   "outputs": [
    {
     "name": "stdout",
     "output_type": "stream",
     "text": [
      "train_images: \n",
      "(60000, 28, 28)\n",
      "\n",
      "train_labels: \n",
      "60000\n"
     ]
    }
   ],
   "source": [
    "print(\"train_images: \")\n",
    "print(train_images.shape)\n",
    "print(\"\")\n",
    "\n",
    "print(\"train_labels: \")\n",
    "print(len(train_labels))"
   ]
  },
  {
   "cell_type": "code",
   "execution_count": 24,
   "metadata": {},
   "outputs": [
    {
     "data": {
      "text/plain": [
       "array([5, 0, 4, ..., 5, 6, 8], dtype=uint8)"
      ]
     },
     "execution_count": 24,
     "metadata": {},
     "output_type": "execute_result"
    }
   ],
   "source": [
    "train_labels"
   ]
  },
  {
   "cell_type": "code",
   "execution_count": 25,
   "metadata": {},
   "outputs": [
    {
     "name": "stdout",
     "output_type": "stream",
     "text": [
      "test_images: \n",
      "(10000, 28, 28)\n",
      "\n",
      "test_labels: \n",
      "10000\n"
     ]
    }
   ],
   "source": [
    "print(\"test_images: \")\n",
    "print(test_images.shape)\n",
    "print(\"\")\n",
    "print(\"test_labels: \")\n",
    "print(len(test_labels))"
   ]
  },
  {
   "cell_type": "code",
   "execution_count": 26,
   "metadata": {},
   "outputs": [
    {
     "data": {
      "text/plain": [
       "array([7, 2, 1, ..., 4, 5, 6], dtype=uint8)"
      ]
     },
     "execution_count": 26,
     "metadata": {},
     "output_type": "execute_result"
    }
   ],
   "source": [
    "test_labels"
   ]
  },
  {
   "cell_type": "markdown",
   "metadata": {},
   "source": [
    "# Creating the model"
   ]
  },
  {
   "cell_type": "code",
   "execution_count": 27,
   "metadata": {
    "collapsed": true
   },
   "outputs": [],
   "source": [
    "from keras import models\n",
    "from keras import layers\n",
    "\n",
    "# fully connected layers\n",
    "# input data as 28*28 considering the picture's width and height\n",
    "# one hidden layer with 10 neuros\n",
    "# output has 10 features, one representing each value, from 0 (zero) to 9 (nine)\n",
    "\n",
    "# just one hidden layer because we do not have that much pattern to learn (10 variations)\n",
    "\n",
    "# activation functions\n",
    "# relu: non-linearity activation function. It cover values from zero to infinity. f(z) is zero when z is less than zero and f(z) is equal to z when z is above or equal to zero.\n",
    "# softmax: It is more generalized logistic activation function. It's used for multiclass classification. It cover values from 0 (zero) to 1 (one).\n",
    "\n",
    "network = models.Sequential()\n",
    "network.add(layers.Dense(512, activation='relu', input_shape=(28 * 28,)))\n",
    "network.add(layers.Dense(10, activation='softmax'))"
   ]
  },
  {
   "cell_type": "code",
   "execution_count": 28,
   "metadata": {
    "collapsed": true
   },
   "outputs": [],
   "source": [
    "# compiling the model.\n",
    "\n",
    "# rmsprop: gradient descent\n",
    "# categorical_crossentropy: it's used for categorical problems.\n",
    "# metrics: to understand how the accuracy is performing considering the epochs\n",
    "\n",
    "network.compile(optimizer='rmsprop', loss='categorical_crossentropy', metrics=['accuracy'])"
   ]
  },
  {
   "cell_type": "markdown",
   "metadata": {},
   "source": [
    "# Resizing the values"
   ]
  },
  {
   "cell_type": "code",
   "execution_count": 29,
   "metadata": {
    "collapsed": true
   },
   "outputs": [],
   "source": [
    "# reducing the values to values between 0 (zero) and 1 (one)\n",
    "train_images = train_images.reshape((60000, 28 * 28))\n",
    "train_images = train_images.astype('float32') / 255\n",
    "test_images = test_images.reshape((10000, 28 * 28))\n",
    "test_images = test_images.astype('float32') / 255\n",
    "\n",
    "# changing the category for each sample to a 10 dim array. It allows to handle with 10 different categories. Each one for each possible value (from 0 to 9)\n",
    "from keras.utils import to_categorical\n",
    "train_labels = to_categorical(train_labels)\n",
    "test_labels = to_categorical(test_labels)"
   ]
  },
  {
   "cell_type": "markdown",
   "metadata": {},
   "source": [
    "# Creating validation set to understand the accuracy over epochs"
   ]
  },
  {
   "cell_type": "code",
   "execution_count": 30,
   "metadata": {
    "collapsed": true
   },
   "outputs": [],
   "source": [
    "train_val = train_images[:7200]\n",
    "train_partial = train_images[7200:]\n",
    "\n",
    "train_labels_val = train_labels[:7200]\n",
    "train_labels_partial = train_labels[7200:]"
   ]
  },
  {
   "cell_type": "markdown",
   "metadata": {},
   "source": [
    "# Configuring TensorBoard to understand the performance"
   ]
  },
  {
   "cell_type": "code",
   "execution_count": 31,
   "metadata": {
    "collapsed": true
   },
   "outputs": [],
   "source": [
    "from keras.callbacks import TensorBoard\n",
    "\n",
    "# make sure you do have the folder `logs`\n",
    "tensorBoard = TensorBoard(log_dir='./logs', histogram_freq=0, write_graph=True, write_images=False)"
   ]
  },
  {
   "cell_type": "markdown",
   "metadata": {},
   "source": [
    "# Training the model"
   ]
  },
  {
   "cell_type": "code",
   "execution_count": 32,
   "metadata": {},
   "outputs": [
    {
     "name": "stdout",
     "output_type": "stream",
     "text": [
      "Train on 52800 samples, validate on 7200 samples\n",
      "Epoch 1/50\n",
      "52800/52800 [==============================] - 3s 54us/step - loss: 0.2741 - acc: 0.9198 - val_loss: 0.1357 - val_acc: 0.9625\n",
      "Epoch 2/50\n",
      "52800/52800 [==============================] - 3s 51us/step - loss: 0.1107 - acc: 0.9670 - val_loss: 0.0972 - val_acc: 0.9733\n",
      "Epoch 3/50\n",
      "52800/52800 [==============================] - 3s 53us/step - loss: 0.0721 - acc: 0.9783 - val_loss: 0.0914 - val_acc: 0.9731\n",
      "Epoch 4/50\n",
      "52800/52800 [==============================] - 3s 54us/step - loss: 0.0524 - acc: 0.9844 - val_loss: 0.0837 - val_acc: 0.9731\n",
      "Epoch 5/50\n",
      "52800/52800 [==============================] - 3s 55us/step - loss: 0.0384 - acc: 0.9889 - val_loss: 0.0802 - val_acc: 0.9760\n",
      "Epoch 6/50\n",
      "52800/52800 [==============================] - 3s 60us/step - loss: 0.0289 - acc: 0.9916 - val_loss: 0.0900 - val_acc: 0.9736\n",
      "Epoch 7/50\n",
      "52800/52800 [==============================] - 3s 61us/step - loss: 0.0226 - acc: 0.9935 - val_loss: 0.0750 - val_acc: 0.9786\n",
      "Epoch 8/50\n",
      "52800/52800 [==============================] - 3s 55us/step - loss: 0.0171 - acc: 0.9951 - val_loss: 0.0728 - val_acc: 0.9792\n",
      "Epoch 9/50\n",
      "52800/52800 [==============================] - 3s 55us/step - loss: 0.0132 - acc: 0.9963 - val_loss: 0.0852 - val_acc: 0.9771\n",
      "Epoch 10/50\n",
      "52800/52800 [==============================] - 4s 74us/step - loss: 0.0103 - acc: 0.9972 - val_loss: 0.0844 - val_acc: 0.9786\n",
      "Epoch 11/50\n",
      "52800/52800 [==============================] - 3s 54us/step - loss: 0.0076 - acc: 0.9981 - val_loss: 0.0752 - val_acc: 0.9803\n",
      "Epoch 12/50\n",
      "52800/52800 [==============================] - 3s 53us/step - loss: 0.0064 - acc: 0.9982 - val_loss: 0.0893 - val_acc: 0.9772\n",
      "Epoch 13/50\n",
      "52800/52800 [==============================] - 3s 51us/step - loss: 0.0047 - acc: 0.9987 - val_loss: 0.0986 - val_acc: 0.9788\n",
      "Epoch 14/50\n",
      "52800/52800 [==============================] - 3s 52us/step - loss: 0.0039 - acc: 0.9990 - val_loss: 0.0859 - val_acc: 0.9789\n",
      "Epoch 15/50\n",
      "52800/52800 [==============================] - 3s 53us/step - loss: 0.0031 - acc: 0.9993 - val_loss: 0.0824 - val_acc: 0.9812\n",
      "Epoch 16/50\n",
      "52800/52800 [==============================] - 3s 58us/step - loss: 0.0027 - acc: 0.9993 - val_loss: 0.0864 - val_acc: 0.9814\n",
      "Epoch 17/50\n",
      "52800/52800 [==============================] - 3s 56us/step - loss: 0.0019 - acc: 0.9997 - val_loss: 0.0903 - val_acc: 0.9803\n",
      "Epoch 18/50\n",
      "52800/52800 [==============================] - 3s 55us/step - loss: 0.0019 - acc: 0.9995 - val_loss: 0.0916 - val_acc: 0.9792\n",
      "Epoch 19/50\n",
      "52800/52800 [==============================] - 3s 54us/step - loss: 0.0014 - acc: 0.9997 - val_loss: 0.1000 - val_acc: 0.9804\n",
      "Epoch 20/50\n",
      "52800/52800 [==============================] - 3s 53us/step - loss: 0.0012 - acc: 0.9997 - val_loss: 0.1033 - val_acc: 0.9815\n",
      "Epoch 21/50\n",
      "52800/52800 [==============================] - 3s 63us/step - loss: 0.0011 - acc: 0.9997 - val_loss: 0.0994 - val_acc: 0.9806\n",
      "Epoch 22/50\n",
      "52800/52800 [==============================] - 3s 65us/step - loss: 7.5913e-04 - acc: 0.9999 - val_loss: 0.1069 - val_acc: 0.9801\n",
      "Epoch 23/50\n",
      "52800/52800 [==============================] - 3s 53us/step - loss: 7.8323e-04 - acc: 0.9999 - val_loss: 0.1099 - val_acc: 0.9814\n",
      "Epoch 24/50\n",
      "52800/52800 [==============================] - 3s 54us/step - loss: 7.1626e-04 - acc: 0.9999 - val_loss: 0.1127 - val_acc: 0.9801\n",
      "Epoch 25/50\n",
      "52800/52800 [==============================] - 3s 52us/step - loss: 6.8872e-04 - acc: 0.9998 - val_loss: 0.1103 - val_acc: 0.9807\n",
      "Epoch 26/50\n",
      "52800/52800 [==============================] - 3s 53us/step - loss: 5.6302e-04 - acc: 0.9999 - val_loss: 0.1062 - val_acc: 0.9828\n",
      "Epoch 27/50\n",
      "52800/52800 [==============================] - 3s 53us/step - loss: 5.6623e-04 - acc: 0.9999 - val_loss: 0.1195 - val_acc: 0.9794\n",
      "Epoch 28/50\n",
      "52800/52800 [==============================] - 3s 53us/step - loss: 5.6258e-04 - acc: 0.9999 - val_loss: 0.1215 - val_acc: 0.9807\n",
      "Epoch 29/50\n",
      "52800/52800 [==============================] - 3s 53us/step - loss: 5.0648e-04 - acc: 0.9999 - val_loss: 0.1213 - val_acc: 0.9808\n",
      "Epoch 30/50\n",
      "52800/52800 [==============================] - 3s 53us/step - loss: 5.8530e-04 - acc: 0.9999 - val_loss: 0.1323 - val_acc: 0.9799\n",
      "Epoch 31/50\n",
      "52800/52800 [==============================] - 3s 54us/step - loss: 4.2572e-04 - acc: 0.9999 - val_loss: 0.1232 - val_acc: 0.9835\n",
      "Epoch 32/50\n",
      "52800/52800 [==============================] - 3s 55us/step - loss: 4.4117e-04 - acc: 0.9999 - val_loss: 0.1449 - val_acc: 0.9806\n",
      "Epoch 33/50\n",
      "52800/52800 [==============================] - 3s 54us/step - loss: 3.7797e-04 - acc: 1.0000 - val_loss: 0.1261 - val_acc: 0.9806\n",
      "Epoch 34/50\n",
      "52800/52800 [==============================] - 3s 50us/step - loss: 4.9925e-04 - acc: 0.9999 - val_loss: 0.1266 - val_acc: 0.9826\n",
      "Epoch 35/50\n",
      "52800/52800 [==============================] - 3s 51us/step - loss: 3.2712e-04 - acc: 1.0000 - val_loss: 0.1195 - val_acc: 0.9836\n",
      "Epoch 36/50\n",
      "52800/52800 [==============================] - 3s 51us/step - loss: 3.2921e-04 - acc: 1.0000 - val_loss: 0.1314 - val_acc: 0.9819\n",
      "Epoch 37/50\n",
      "52800/52800 [==============================] - 3s 51us/step - loss: 3.4005e-04 - acc: 1.0000 - val_loss: 0.1296 - val_acc: 0.9821\n",
      "Epoch 38/50\n",
      "52800/52800 [==============================] - 3s 51us/step - loss: 3.9937e-04 - acc: 1.0000 - val_loss: 0.1451 - val_acc: 0.9808\n",
      "Epoch 39/50\n",
      "52800/52800 [==============================] - 3s 52us/step - loss: 4.1276e-04 - acc: 0.9999 - val_loss: 0.1394 - val_acc: 0.9804\n",
      "Epoch 40/50\n",
      "52800/52800 [==============================] - 3s 50us/step - loss: 3.1785e-04 - acc: 1.0000 - val_loss: 0.1331 - val_acc: 0.9819\n",
      "Epoch 41/50\n",
      "52800/52800 [==============================] - 3s 51us/step - loss: 3.0946e-04 - acc: 1.0000 - val_loss: 0.1392 - val_acc: 0.9810\n",
      "Epoch 42/50\n",
      "52800/52800 [==============================] - 3s 52us/step - loss: 3.2035e-04 - acc: 1.0000 - val_loss: 0.1339 - val_acc: 0.9815\n",
      "Epoch 43/50\n",
      "52800/52800 [==============================] - 3s 51us/step - loss: 3.1992e-04 - acc: 1.0000 - val_loss: 0.1342 - val_acc: 0.9811\n",
      "Epoch 44/50\n",
      "52800/52800 [==============================] - ETA: 0s - loss: 3.3469e-04 - acc: 1.000 - 3s 51us/step - loss: 3.3023e-04 - acc: 1.0000 - val_loss: 0.1426 - val_acc: 0.9818\n",
      "Epoch 45/50\n",
      "52800/52800 [==============================] - 3s 50us/step - loss: 3.2505e-04 - acc: 1.0000 - val_loss: 0.1432 - val_acc: 0.9815\n",
      "Epoch 46/50\n",
      "52800/52800 [==============================] - 3s 50us/step - loss: 3.0832e-04 - acc: 1.0000 - val_loss: 0.1381 - val_acc: 0.9817\n",
      "Epoch 47/50\n",
      "52800/52800 [==============================] - 3s 50us/step - loss: 3.0780e-04 - acc: 1.0000 - val_loss: 0.1465 - val_acc: 0.9814\n",
      "Epoch 48/50\n",
      "52800/52800 [==============================] - 3s 51us/step - loss: 3.0613e-04 - acc: 1.0000 - val_loss: 0.1455 - val_acc: 0.9811\n",
      "Epoch 49/50\n",
      "52800/52800 [==============================] - 3s 50us/step - loss: 3.0561e-04 - acc: 1.0000 - val_loss: 0.1488 - val_acc: 0.9815\n",
      "Epoch 50/50\n",
      "52800/52800 [==============================] - 3s 50us/step - loss: 3.0730e-04 - acc: 1.0000 - val_loss: 0.1412 - val_acc: 0.9824\n"
     ]
    }
   ],
   "source": [
    "# important: adding tensorBoard to receive the callback and get information related to the model training.\n",
    "# make sure you installed the tensorboard:\n",
    "# pip install Tensorboard\n",
    "# To run the tensorboard:\n",
    "# tensorboard --logdir=logs/\n",
    "# after, open the browser at (it shows the URL):\n",
    "# http://localhost:6006\n",
    "\n",
    "history = network.fit(train_partial, train_labels_partial, epochs=50, batch_size=128, validation_data=(train_val, train_labels_val), callbacks=[tensorBoard])"
   ]
  },
  {
   "cell_type": "markdown",
   "metadata": {},
   "source": [
    "# Plotting the performance"
   ]
  },
  {
   "cell_type": "code",
   "execution_count": 33,
   "metadata": {
    "collapsed": true
   },
   "outputs": [],
   "source": [
    "loss = history.history['loss']\n",
    "val_loss = history.history['val_loss']\n",
    "\n",
    "epochs = range(1, len(loss) + 1)"
   ]
  },
  {
   "cell_type": "code",
   "execution_count": 34,
   "metadata": {
    "scrolled": true
   },
   "outputs": [
    {
     "data": {
      "image/png": "[encoded data removed]",
      "text/plain": [
       "<matplotlib.figure.Figure at 0x10f7b3a10>"
      ]
     },
     "metadata": {},
     "output_type": "display_data"
    }
   ],
   "source": [
    "import matplotlib.pyplot as plt\n",
    "\n",
    "plt.plot(epochs, loss, 'bo', label='Training loss')\n",
    "plt.plot(epochs, val_loss, 'b', label='Validation loss')\n",
    "plt.title('Training and validation loss')\n",
    "plt.xlabel('Epochs')\n",
    "plt.ylabel('Loss')\n",
    "plt.legend()\n",
    "\n",
    "plt.show()"
   ]
  },
  {
   "cell_type": "markdown",
   "metadata": {},
   "source": [
    "- When we can see the accuracy and the validation loss moving together (down) it means the model is working well.\n",
    "- Basically, when we see that we are increasing the accuracy, but the validation loss is moving up, it means we are overfitting our model\n",
    "- Normally, on the first try, we try to overfit the model to understand the model limit. There are some techniques to improve the model quality, or you should train the model until before it overfits."
   ]
  },
  {
   "cell_type": "markdown",
   "metadata": {},
   "source": [
    "# Model accuracy based on the test data set"
   ]
  },
  {
   "cell_type": "code",
   "execution_count": 35,
   "metadata": {},
   "outputs": [
    {
     "name": "stdout",
     "output_type": "stream",
     "text": [
      "10000/10000 [==============================] - 0s 39us/step\n",
      "('test_acc:', 0.9828)\n"
     ]
    }
   ],
   "source": [
    "test_loss, test_acc = network.evaluate(test_images, test_labels)\n",
    "print('test_acc:', test_acc)"
   ]
  },
  {
   "cell_type": "markdown",
   "metadata": {},
   "source": [
    "# Making some improvements to see if we can improve the general accuracy"
   ]
  },
  {
   "cell_type": "code",
   "execution_count": 36,
   "metadata": {
    "scrolled": true
   },
   "outputs": [
    {
     "name": "stdout",
     "output_type": "stream",
     "text": [
      "Train on 52800 samples, validate on 7200 samples\n",
      "Epoch 1/10\n",
      "52800/52800 [==============================] - 3s 49us/step - loss: 0.2732 - acc: 0.9210 - val_loss: 0.1357 - val_acc: 0.9635\n",
      "Epoch 2/10\n",
      "52800/52800 [==============================] - 3s 50us/step - loss: 0.1104 - acc: 0.9679 - val_loss: 0.0960 - val_acc: 0.9708\n",
      "Epoch 3/10\n",
      "52800/52800 [==============================] - 3s 51us/step - loss: 0.0726 - acc: 0.9776 - val_loss: 0.0795 - val_acc: 0.9765\n",
      "Epoch 4/10\n",
      "52800/52800 [==============================] - 3s 50us/step - loss: 0.0524 - acc: 0.9842 - val_loss: 0.0762 - val_acc: 0.9783\n",
      "Epoch 5/10\n",
      "52800/52800 [==============================] - 3s 51us/step - loss: 0.0397 - acc: 0.9879 - val_loss: 0.0754 - val_acc: 0.9771\n",
      "Epoch 6/10\n",
      "52800/52800 [==============================] - 3s 50us/step - loss: 0.0296 - acc: 0.9915 - val_loss: 0.0656 - val_acc: 0.9793\n",
      "Epoch 7/10\n",
      "52800/52800 [==============================] - 3s 56us/step - loss: 0.0223 - acc: 0.9934 - val_loss: 0.0719 - val_acc: 0.9808\n",
      "Epoch 8/10\n",
      "52800/52800 [==============================] - 3s 53us/step - loss: 0.0168 - acc: 0.9951 - val_loss: 0.0746 - val_acc: 0.9793\n",
      "Epoch 9/10\n",
      "52800/52800 [==============================] - 2s 47us/step - loss: 0.0133 - acc: 0.9965 - val_loss: 0.0839 - val_acc: 0.9799\n",
      "Epoch 10/10\n",
      "52800/52800 [==============================] - 3s 49us/step - loss: 0.0101 - acc: 0.9972 - val_loss: 0.0764 - val_acc: 0.9799\n"
     ]
    }
   ],
   "source": [
    "# based on the last plotting, I know that it's better train to something close to 20 epochs (after that it's overfitting)\n",
    "\n",
    "network = models.Sequential()\n",
    "network.add(layers.Dense(512, activation='relu', input_shape=(28 * 28,)))\n",
    "network.add(layers.Dense(10, activation='softmax'))\n",
    "\n",
    "network.compile(optimizer='rmsprop', loss='categorical_crossentropy', metrics=['accuracy'])\n",
    "\n",
    "history = network.fit(train_partial, train_labels_partial, epochs=10, batch_size=128, validation_data=(train_val, train_labels_val), callbacks=[tensorBoard])\n"
   ]
  },
  {
   "cell_type": "code",
   "execution_count": 37,
   "metadata": {},
   "outputs": [
    {
     "data": {
      "image/png": "[encoded data removed]",
      "text/plain": [
       "<matplotlib.figure.Figure at 0x1a4f05de90>"
      ]
     },
     "metadata": {},
     "output_type": "display_data"
    }
   ],
   "source": [
    "loss = history.history['loss']\n",
    "val_loss = history.history['val_loss']\n",
    "\n",
    "epochs = range(1, len(loss) + 1)\n",
    "\n",
    "plt.plot(epochs, loss, 'bo', label='Training loss')\n",
    "plt.plot(epochs, val_loss, 'b', label='Validation loss')\n",
    "plt.title('Training and validation loss')\n",
    "plt.xlabel('Epochs')\n",
    "plt.ylabel('Loss')\n",
    "plt.legend()\n",
    "\n",
    "plt.show()"
   ]
  },
  {
   "cell_type": "code",
   "execution_count": 38,
   "metadata": {},
   "outputs": [
    {
     "name": "stdout",
     "output_type": "stream",
     "text": [
      "10000/10000 [==============================] - 0s 36us/step\n",
      "('test_acc:', 0.9802)\n"
     ]
    }
   ],
   "source": [
    "test_loss, test_acc = network.evaluate(test_images, test_labels)\n",
    "print('test_acc:', test_acc)"
   ]
  },
  {
   "cell_type": "markdown",
   "metadata": {},
   "source": [
    "# Understandings\n",
    "\n",
    "- Now everything looks OK. The loss reducing a little bit, but not moving up (overfitting characteristic)\n",
    "- I can train again ignoring the validation set (to have more data to be considered on the training) and test again."
   ]
  },
  {
   "cell_type": "markdown",
   "metadata": {},
   "source": [
    "# Training using the whole train data set"
   ]
  },
  {
   "cell_type": "code",
   "execution_count": 40,
   "metadata": {},
   "outputs": [
    {
     "name": "stdout",
     "output_type": "stream",
     "text": [
      "Epoch 1/10\n",
      "60000/60000 [==============================] - 3s 50us/step - loss: 0.2568 - acc: 0.9258\n",
      "Epoch 2/10\n",
      "60000/60000 [==============================] - 3s 46us/step - loss: 0.1034 - acc: 0.9692\n",
      "Epoch 3/10\n",
      "60000/60000 [==============================] - 3s 47us/step - loss: 0.0683 - acc: 0.9792\n",
      "Epoch 4/10\n",
      "60000/60000 [==============================] - 3s 48us/step - loss: 0.0498 - acc: 0.9841\n",
      "Epoch 5/10\n",
      "60000/60000 [==============================] - 3s 49us/step - loss: 0.0374 - acc: 0.9891\n",
      "Epoch 6/10\n",
      "60000/60000 [==============================] - 3s 52us/step - loss: 0.0288 - acc: 0.9914\n",
      "Epoch 7/10\n",
      "60000/60000 [==============================] - 3s 52us/step - loss: 0.0216 - acc: 0.9937\n",
      "Epoch 8/10\n",
      "60000/60000 [==============================] - 3s 49us/step - loss: 0.0163 - acc: 0.9957\n",
      "Epoch 9/10\n",
      "60000/60000 [==============================] - 3s 48us/step - loss: 0.0128 - acc: 0.9961\n",
      "Epoch 10/10\n",
      "60000/60000 [==============================] - 3s 48us/step - loss: 0.0099 - acc: 0.9971\n"
     ]
    }
   ],
   "source": [
    "# based on the last plotting, I know that it's better train to something close to 20 epochs (after that it's overfitting)\n",
    "\n",
    "network = models.Sequential()\n",
    "network.add(layers.Dense(512, activation='relu', input_shape=(28 * 28,)))\n",
    "network.add(layers.Dense(10, activation='softmax'))\n",
    "\n",
    "network.compile(optimizer='rmsprop', loss='categorical_crossentropy', metrics=['accuracy'])\n",
    "\n",
    "history = network.fit(train_images, train_labels, epochs=10, batch_size=128, callbacks=[tensorBoard])"
   ]
  },
  {
   "cell_type": "code",
   "execution_count": 41,
   "metadata": {},
   "outputs": [
    {
     "name": "stdout",
     "output_type": "stream",
     "text": [
      "10000/10000 [==============================] - 0s 43us/step\n",
      "('test_acc:', 0.9829)\n"
     ]
    }
   ],
   "source": [
    "test_loss, test_acc = network.evaluate(test_images, test_labels)\n",
    "print('test_acc:', test_acc)"
   ]
  },
  {
   "cell_type": "markdown",
   "metadata": {},
   "source": [
    "# Function to open normal images and validate\n",
    "\n",
    "- normal images was made my myself on \"paint X\" app for Mac"
   ]
  },
  {
   "cell_type": "code",
   "execution_count": 42,
   "metadata": {
    "collapsed": true
   },
   "outputs": [],
   "source": [
    "from PIL import Image, ImageFilter\n",
    "from matplotlib import pyplot as plt\n",
    "import numpy as np\n",
    "%matplotlib inline\n",
    "\n",
    "def imageprepare(argv):\n",
    "    \"\"\"\n",
    "    This function returns the pixel values.\n",
    "    The imput is a png file location.\n",
    "    \"\"\"\n",
    "    im = Image.open(argv).convert('L')\n",
    "    width = float(im.size[0])\n",
    "    height = float(im.size[1])\n",
    "    newImage = Image.new('L', (28, 28), (255))  # creates white canvas of 28x28 pixels\n",
    "\n",
    "    if width > height:  # check which dimension is bigger\n",
    "        # Width is bigger. Width becomes 20 pixels.\n",
    "        nheight = int(round((20.0 / width * height), 0))  # resize height according to ratio width\n",
    "        if (nheight == 0):  # rare case but minimum is 1 pixel\n",
    "            nheight = 1\n",
    "            # resize and sharpen\n",
    "        img = im.resize((20, nheight), Image.ANTIALIAS).filter(ImageFilter.SHARPEN)\n",
    "        wtop = int(round(((28 - nheight) / 2), 0))  # calculate horizontal position\n",
    "        newImage.paste(img, (4, wtop))  # paste resized image on white canvas\n",
    "    else:\n",
    "        # Height is bigger. Heigth becomes 20 pixels.\n",
    "        nwidth = int(round((20.0 / height * width), 0))  # resize width according to ratio height\n",
    "        if (nwidth == 0):  # rare case but minimum is 1 pixel\n",
    "            nwidth = 1\n",
    "            # resize and sharpen\n",
    "        img = im.resize((nwidth, 20), Image.ANTIALIAS).filter(ImageFilter.SHARPEN)\n",
    "        wleft = int(round(((28 - nwidth) / 2), 0))  # caculate vertical pozition\n",
    "        newImage.paste(img, (wleft, 4))  # paste resized image on white canvas\n",
    "\n",
    "    # newImage.save(\"sample.png\n",
    "\n",
    "    tv = list(newImage.getdata())  # get pixel values\n",
    "\n",
    "    # normalize pixels to 0 and 1. 0 is pure white, 1 is pure black.\n",
    "    tva = [(255 - x) * 1.0 / 255.0 for x in tv]\n",
    "    return tva"
   ]
  },
  {
   "cell_type": "code",
   "execution_count": 43,
   "metadata": {
    "collapsed": true
   },
   "outputs": [],
   "source": [
    "%matplotlib inline\n",
    "\n",
    "def plotNumber(number):\n",
    "    # We'll show the image and its pixel value histogram side-by-side.\n",
    "    _, (ax1, ax2) = plt.subplots(1, 2)\n",
    "\n",
    "    # To interpret the values as a 28x28 image, we need to reshape\n",
    "    # the numpy array, which is one dimensional.\n",
    "    ax1.imshow(np.asarray(number).reshape(28, 28), cmap=plt.cm.Greys);\n",
    "\n",
    "    ax2.hist(number, bins=20, range=[0,1]);"
   ]
  },
  {
   "cell_type": "markdown",
   "metadata": {},
   "source": [
    "# To have fun, testing my numbers"
   ]
  },
  {
   "cell_type": "code",
   "execution_count": 44,
   "metadata": {
    "collapsed": true
   },
   "outputs": [],
   "source": [
    "t1 = imageprepare(\"my-1.png\")\n",
    "t2 = imageprepare(\"my-2.png\")\n",
    "t8a = imageprepare(\"my-8a.png\")\n",
    "t8b = imageprepare(\"my-8b.png\")"
   ]
  },
  {
   "cell_type": "code",
   "execution_count": 45,
   "metadata": {
    "collapsed": true
   },
   "outputs": [],
   "source": [
    "t1_ready = np.asarray([t1])\n",
    "t2_ready = np.asarray([t2])\n",
    "t8a_ready = np.asarray([t8a])\n",
    "t8b_ready = np.asarray([t8b])"
   ]
  },
  {
   "cell_type": "code",
   "execution_count": 46,
   "metadata": {
    "collapsed": true
   },
   "outputs": [],
   "source": [
    "t1_result = network.predict(t1_ready)\n",
    "t2_result = network.predict(t2_ready)\n",
    "t8a_result = network.predict(t8a_ready)\n",
    "t8b_result = network.predict(t8b_ready)"
   ]
  },
  {
   "cell_type": "markdown",
   "metadata": {},
   "source": [
    "- The predicted result is an array containing 10 positions. Each of the position indicate one number (this is the classification).\n",
    "- I am using a specific function to get the index with the bigger value, this is the predicted number."
   ]
  },
  {
   "cell_type": "markdown",
   "metadata": {},
   "source": [
    "# Analyzing the result => t1"
   ]
  },
  {
   "cell_type": "code",
   "execution_count": 47,
   "metadata": {},
   "outputs": [
    {
     "data": {
      "text/plain": [
       "array([[9.4586873e-08, 2.1307120e-01, 9.6434182e-05, 1.4590986e-04,\n",
       "        2.6837469e-04, 5.4869797e-06, 2.4800897e-09, 1.0267990e-02,\n",
       "        4.9343227e-05, 7.7609521e-01]], dtype=float32)"
      ]
     },
     "execution_count": 47,
     "metadata": {},
     "output_type": "execute_result"
    }
   ],
   "source": [
    "t1_result"
   ]
  },
  {
   "cell_type": "code",
   "execution_count": 48,
   "metadata": {},
   "outputs": [
    {
     "data": {
      "text/plain": [
       "9"
      ]
     },
     "execution_count": 48,
     "metadata": {},
     "output_type": "execute_result"
    }
   ],
   "source": [
    "np.argmax(t1_result)"
   ]
  },
  {
   "cell_type": "code",
   "execution_count": 49,
   "metadata": {},
   "outputs": [
    {
     "data": {
      "image/png": "[encoded data removed]",
      "text/plain": [
       "<matplotlib.figure.Figure at 0x1a34a5e250>"
      ]
     },
     "metadata": {},
     "output_type": "display_data"
    }
   ],
   "source": [
    "plotNumber(t1)"
   ]
  },
  {
   "cell_type": "markdown",
   "metadata": {},
   "source": [
    "# Analyzing the result => t2"
   ]
  },
  {
   "cell_type": "code",
   "execution_count": 50,
   "metadata": {},
   "outputs": [
    {
     "data": {
      "text/plain": [
       "array([[6.5155862e-12, 3.2478019e-07, 9.9999869e-01, 5.3531366e-09,\n",
       "        1.8711315e-12, 3.3030350e-08, 4.1590550e-11, 9.7535076e-07,\n",
       "        1.9297490e-10, 4.5091873e-16]], dtype=float32)"
      ]
     },
     "execution_count": 50,
     "metadata": {},
     "output_type": "execute_result"
    }
   ],
   "source": [
    "t2_result"
   ]
  },
  {
   "cell_type": "code",
   "execution_count": 51,
   "metadata": {},
   "outputs": [
    {
     "data": {
      "text/plain": [
       "2"
      ]
     },
     "execution_count": 51,
     "metadata": {},
     "output_type": "execute_result"
    }
   ],
   "source": [
    "np.argmax(t2_result)"
   ]
  },
  {
   "cell_type": "code",
   "execution_count": 52,
   "metadata": {},
   "outputs": [
    {
     "data": {
      "image/png": "[encoded data removed]",
      "text/plain": [
       "<matplotlib.figure.Figure at 0x1211a61d0>"
      ]
     },
     "metadata": {},
     "output_type": "display_data"
    }
   ],
   "source": [
    "plotNumber(t2)"
   ]
  },
  {
   "cell_type": "markdown",
   "metadata": {},
   "source": [
    "# Analyzing the result => t8a"
   ]
  },
  {
   "cell_type": "code",
   "execution_count": 53,
   "metadata": {},
   "outputs": [
    {
     "data": {
      "text/plain": [
       "array([[6.1350082e-05, 1.4461418e-05, 6.4449770e-05, 4.8907881e-05,\n",
       "        1.6032938e-02, 1.0372884e-01, 8.3117001e-04, 1.2386410e-05,\n",
       "        8.7893015e-01, 2.7537238e-04]], dtype=float32)"
      ]
     },
     "execution_count": 53,
     "metadata": {},
     "output_type": "execute_result"
    }
   ],
   "source": [
    "t8a_result"
   ]
  },
  {
   "cell_type": "code",
   "execution_count": 54,
   "metadata": {},
   "outputs": [
    {
     "data": {
      "text/plain": [
       "8"
      ]
     },
     "execution_count": 54,
     "metadata": {},
     "output_type": "execute_result"
    }
   ],
   "source": [
    "np.argmax(t8a_result)"
   ]
  },
  {
   "cell_type": "code",
   "execution_count": 55,
   "metadata": {},
   "outputs": [
    {
     "data": {
      "image/png": "[encoded data removed]",
      "text/plain": [
       "<matplotlib.figure.Figure at 0x121359fd0>"
      ]
     },
     "metadata": {},
     "output_type": "display_data"
    }
   ],
   "source": [
    "plotNumber(t8a)"
   ]
  },
  {
   "cell_type": "markdown",
   "metadata": {},
   "source": [
    "# Analyzing the result => t8b"
   ]
  },
  {
   "cell_type": "code",
   "execution_count": 56,
   "metadata": {},
   "outputs": [
    {
     "data": {
      "text/plain": [
       "array([[4.8003093e-04, 1.7170845e-07, 3.2812466e-05, 2.0591235e-06,\n",
       "        3.8980728e-01, 5.1260781e-01, 3.3153102e-02, 5.0002386e-06,\n",
       "        6.3832290e-02, 7.9360929e-05]], dtype=float32)"
      ]
     },
     "execution_count": 56,
     "metadata": {},
     "output_type": "execute_result"
    }
   ],
   "source": [
    "t8b_result"
   ]
  },
  {
   "cell_type": "code",
   "execution_count": 57,
   "metadata": {},
   "outputs": [
    {
     "data": {
      "text/plain": [
       "5"
      ]
     },
     "execution_count": 57,
     "metadata": {},
     "output_type": "execute_result"
    }
   ],
   "source": [
    "np.argmax(t8b_result)"
   ]
  },
  {
   "cell_type": "code",
   "execution_count": 58,
   "metadata": {},
   "outputs": [
    {
     "data": {
      "image/png": "[encoded data removed]",
      "text/plain": [
       "<matplotlib.figure.Figure at 0x1210500d0>"
      ]
     },
     "metadata": {},
     "output_type": "display_data"
    }
   ],
   "source": [
    "plotNumber(t8b)"
   ]
  },
  {
   "cell_type": "code",
   "execution_count": null,
   "metadata": {
    "collapsed": true
   },
   "outputs": [],
   "source": []
  },
  {
   "cell_type": "code",
   "execution_count": null,
   "metadata": {
    "collapsed": true
   },
   "outputs": [],
   "source": []
  },
  {
   "cell_type": "code",
   "execution_count": null,
   "metadata": {
    "collapsed": true
   },
   "outputs": [],
   "source": []
  },
  {
   "cell_type": "code",
   "execution_count": null,
   "metadata": {
    "collapsed": true
   },
   "outputs": [],
   "source": []
  }
 ],
 "metadata": {
  "kernelspec": {
   "display_name": "Python 2",
   "language": "python",
   "name": "python2"
  },
  "language_info": {
   "codemirror_mode": {
    "name": "ipython",
    "version": 2
   },
   "file_extension": ".py",
   "mimetype": "text/x-python",
   "name": "python",
   "nbconvert_exporter": "python",
   "pygments_lexer": "ipython2",
   "version": "2.7.14"
  }
 },
 "nbformat": 4,
 "nbformat_minor": 2
}
