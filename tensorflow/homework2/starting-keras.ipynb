{
 "cells": [
  {
   "cell_type": "markdown",
   "metadata": {},
   "source": [
    "# creating the model"
   ]
  },
  {
   "cell_type": "code",
   "execution_count": 67,
   "metadata": {},
   "outputs": [],
   "source": [
    "from keras.models import Sequential"
   ]
  },
  {
   "cell_type": "code",
   "execution_count": 68,
   "metadata": {
    "collapsed": true
   },
   "outputs": [],
   "source": [
    "model = Sequential()"
   ]
  },
  {
   "cell_type": "markdown",
   "metadata": {},
   "source": [
    "# adding layers"
   ]
  },
  {
   "cell_type": "code",
   "execution_count": 69,
   "metadata": {
    "collapsed": true
   },
   "outputs": [],
   "source": [
    "from keras.layers import Dense\n",
    "\n",
    "model.add(Dense(units=1, activation='relu', input_dim=2))\n",
    "model.add(Dense(units=1, activation='softmax'))"
   ]
  },
  {
   "cell_type": "markdown",
   "metadata": {},
   "source": [
    "# learning process"
   ]
  },
  {
   "cell_type": "code",
   "execution_count": 70,
   "metadata": {},
   "outputs": [],
   "source": [
    "#sparse_categorical_crossentropy => target as numbers\n",
    "#categorical_crossentropy => target as binary\n",
    "\n",
    "model.compile(loss='sparse_categorical_crossentropy',\n",
    "              optimizer='sgd',\n",
    "              metrics=['accuracy'])"
   ]
  },
  {
   "cell_type": "markdown",
   "metadata": {},
   "source": [
    "# Configuring the optimizer"
   ]
  },
  {
   "cell_type": "code",
   "execution_count": 71,
   "metadata": {
    "collapsed": true
   },
   "outputs": [],
   "source": [
    "import keras\n",
    "\n",
    "#model.compile(loss=keras.losses.categorical_crossentropy,\n",
    "#              optimizer=keras.optimizers.SGD(lr=0.01, momentum=0.9, nesterov=True))"
   ]
  },
  {
   "cell_type": "markdown",
   "metadata": {},
   "source": [
    "# generating dummy data"
   ]
  },
  {
   "cell_type": "code",
   "execution_count": 72,
   "metadata": {
    "collapsed": true
   },
   "outputs": [],
   "source": [
    "import numpy as np\n",
    "import matplotlib.pyplot as plt\n",
    "\n",
    "%matplotlib inline"
   ]
  },
  {
   "cell_type": "code",
   "execution_count": null,
   "metadata": {
    "collapsed": true
   },
   "outputs": [],
   "source": []
  },
  {
   "cell_type": "code",
   "execution_count": null,
   "metadata": {
    "collapsed": true
   },
   "outputs": [],
   "source": []
  },
  {
   "cell_type": "code",
   "execution_count": 73,
   "metadata": {},
   "outputs": [
    {
     "data": {
      "image/png": "[encoded data removed]",
      "text/plain": [
       "<matplotlib.figure.Figure at 0x1827ed9950>"
      ]
     },
     "metadata": {},
     "output_type": "display_data"
    }
   ],
   "source": [
    "num_examples = 50\n",
    "# linspace: generates linear samples from the initial point (-2) to the final point (4)\n",
    "X = np.array([np.linspace(-2, 4, num_examples), np.linspace(-6, 6, num_examples)])\n",
    "X = np.transpose(X)\n",
    "plt.figure(figsize=(4,4))\n",
    "plt.scatter(np.transpose(X)[0], np.transpose(X)[1])\n",
    "plt.show()"
   ]
  },
  {
   "cell_type": "code",
   "execution_count": 74,
   "metadata": {},
   "outputs": [
    {
     "data": {
      "text/plain": [
       "array([[-2.        , -6.        ],\n",
       "       [-1.87755102, -5.75510204],\n",
       "       [-1.75510204, -5.51020408],\n",
       "       [-1.63265306, -5.26530612],\n",
       "       [-1.51020408, -5.02040816],\n",
       "       [-1.3877551 , -4.7755102 ],\n",
       "       [-1.26530612, -4.53061224],\n",
       "       [-1.14285714, -4.28571429],\n",
       "       [-1.02040816, -4.04081633],\n",
       "       [-0.89795918, -3.79591837],\n",
       "       [-0.7755102 , -3.55102041],\n",
       "       [-0.65306122, -3.30612245],\n",
       "       [-0.53061224, -3.06122449],\n",
       "       [-0.40816327, -2.81632653],\n",
       "       [-0.28571429, -2.57142857],\n",
       "       [-0.16326531, -2.32653061],\n",
       "       [-0.04081633, -2.08163265],\n",
       "       [ 0.08163265, -1.83673469],\n",
       "       [ 0.20408163, -1.59183673],\n",
       "       [ 0.32653061, -1.34693878],\n",
       "       [ 0.44897959, -1.10204082],\n",
       "       [ 0.57142857, -0.85714286],\n",
       "       [ 0.69387755, -0.6122449 ],\n",
       "       [ 0.81632653, -0.36734694],\n",
       "       [ 0.93877551, -0.12244898],\n",
       "       [ 1.06122449,  0.12244898],\n",
       "       [ 1.18367347,  0.36734694],\n",
       "       [ 1.30612245,  0.6122449 ],\n",
       "       [ 1.42857143,  0.85714286],\n",
       "       [ 1.55102041,  1.10204082],\n",
       "       [ 1.67346939,  1.34693878],\n",
       "       [ 1.79591837,  1.59183673],\n",
       "       [ 1.91836735,  1.83673469],\n",
       "       [ 2.04081633,  2.08163265],\n",
       "       [ 2.16326531,  2.32653061],\n",
       "       [ 2.28571429,  2.57142857],\n",
       "       [ 2.40816327,  2.81632653],\n",
       "       [ 2.53061224,  3.06122449],\n",
       "       [ 2.65306122,  3.30612245],\n",
       "       [ 2.7755102 ,  3.55102041],\n",
       "       [ 2.89795918,  3.79591837],\n",
       "       [ 3.02040816,  4.04081633],\n",
       "       [ 3.14285714,  4.28571429],\n",
       "       [ 3.26530612,  4.53061224],\n",
       "       [ 3.3877551 ,  4.7755102 ],\n",
       "       [ 3.51020408,  5.02040816],\n",
       "       [ 3.63265306,  5.26530612],\n",
       "       [ 3.75510204,  5.51020408],\n",
       "       [ 3.87755102,  5.75510204],\n",
       "       [ 4.        ,  6.        ]])"
      ]
     },
     "execution_count": 74,
     "metadata": {},
     "output_type": "execute_result"
    }
   ],
   "source": [
    "X"
   ]
  },
  {
   "cell_type": "code",
   "execution_count": 75,
   "metadata": {},
   "outputs": [
    {
     "data": {
      "text/plain": [
       "(2, 50)"
      ]
     },
     "execution_count": 75,
     "metadata": {},
     "output_type": "execute_result"
    }
   ],
   "source": [
    "np.random.randn(2, num_examples).shape"
   ]
  },
  {
   "cell_type": "code",
   "execution_count": 76,
   "metadata": {},
   "outputs": [
    {
     "data": {
      "image/png": "[encoded data removed]",
      "text/plain": [
       "<matplotlib.figure.Figure at 0x18282d18d0>"
      ]
     },
     "metadata": {},
     "output_type": "display_data"
    }
   ],
   "source": [
    "# generate noisy on the linear data\n",
    "\n",
    "X += np.transpose(np.random.randn(2, num_examples))\n",
    "plt.figure(figsize=(4,4))\n",
    "plt.scatter(np.transpose(X)[0], np.transpose(X)[1])\n",
    "plt.show()"
   ]
  },
  {
   "cell_type": "code",
   "execution_count": 77,
   "metadata": {},
   "outputs": [
    {
     "data": {
      "text/plain": [
       "(50, 2)"
      ]
     },
     "execution_count": 77,
     "metadata": {},
     "output_type": "execute_result"
    }
   ],
   "source": [
    "X.shape"
   ]
  },
  {
   "cell_type": "code",
   "execution_count": null,
   "metadata": {
    "collapsed": true
   },
   "outputs": [],
   "source": []
  },
  {
   "cell_type": "code",
   "execution_count": 78,
   "metadata": {
    "collapsed": true
   },
   "outputs": [],
   "source": [
    "y = np.random.randint(2, size=(50)).astype(float)/2"
   ]
  },
  {
   "cell_type": "code",
   "execution_count": 79,
   "metadata": {},
   "outputs": [
    {
     "data": {
      "text/plain": [
       "(50,)"
      ]
     },
     "execution_count": 79,
     "metadata": {},
     "output_type": "execute_result"
    }
   ],
   "source": [
    "y.shape"
   ]
  },
  {
   "cell_type": "code",
   "execution_count": 80,
   "metadata": {},
   "outputs": [
    {
     "data": {
      "text/plain": [
       "array([ 0.5,  0. ,  0. ,  0.5,  0.5,  0.5,  0. ,  0.5,  0. ,  0. ,  0.5,\n",
       "        0.5,  0.5,  0.5,  0.5,  0. ,  0.5,  0. ,  0.5,  0. ,  0. ,  0. ,\n",
       "        0. ,  0.5,  0.5,  0.5,  0. ,  0. ,  0.5,  0. ,  0. ,  0.5,  0. ,\n",
       "        0.5,  0.5,  0. ,  0. ,  0.5,  0.5,  0. ,  0.5,  0.5,  0. ,  0. ,\n",
       "        0. ,  0. ,  0. ,  0. ,  0. ,  0.5])"
      ]
     },
     "execution_count": 80,
     "metadata": {},
     "output_type": "execute_result"
    }
   ],
   "source": [
    "y"
   ]
  },
  {
   "cell_type": "code",
   "execution_count": 81,
   "metadata": {},
   "outputs": [
    {
     "data": {
      "image/png": "[encoded data removed]",
      "text/plain": [
       "<matplotlib.figure.Figure at 0x1827cde610>"
      ]
     },
     "metadata": {},
     "output_type": "display_data"
    }
   ],
   "source": [
    "plt.figure(figsize=(4,4))\n",
    "plt.scatter(np.transpose(X)[0], y)\n",
    "plt.show()"
   ]
  },
  {
   "cell_type": "markdown",
   "metadata": {},
   "source": [
    "# train the model"
   ]
  },
  {
   "cell_type": "code",
   "execution_count": 82,
   "metadata": {},
   "outputs": [
    {
     "data": {
      "text/plain": [
       "array([ 0.14387052, -1.79323357, -2.00108577, -0.48930092, -0.72616863,\n",
       "       -1.32212464, -1.57198095,  0.40360946, -1.45083365, -0.13112366,\n",
       "        0.09615077, -0.08266987, -2.27391708,  0.69730853,  0.2780958 ,\n",
       "       -0.93433735, -1.28544117,  0.95031126,  1.86361087, -0.89756923,\n",
       "       -2.13082008,  0.57924641,  1.17185778,  1.54796138,  1.86563433,\n",
       "        1.03870515,  1.05509957,  1.56514786,  1.06039779,  0.8397969 ,\n",
       "        1.52938796,  1.36237336,  2.45647998,  1.20805941,  1.02106026,\n",
       "        1.28010872,  2.27164051,  3.52042153,  3.34988476,  2.11799432,\n",
       "        1.55574359,  1.45367113,  1.96275894,  4.37767315,  2.59311514,\n",
       "        3.44618528,  4.61893855,  2.11348481,  4.03756892,  4.65763113])"
      ]
     },
     "execution_count": 82,
     "metadata": {},
     "output_type": "execute_result"
    }
   ],
   "source": [
    "np.transpose(np.transpose(X)[0])"
   ]
  },
  {
   "cell_type": "code",
   "execution_count": 83,
   "metadata": {},
   "outputs": [
    {
     "data": {
      "text/plain": [
       "array([-5.18525553, -6.34796461, -5.91830606, -5.88422879, -4.47286596,\n",
       "       -6.44657419, -4.40099127, -4.10008836, -3.80415194, -4.43703699,\n",
       "       -2.98253026, -3.71337726, -1.39844752, -3.11212735, -1.47637218,\n",
       "       -2.35444138, -1.13195085, -2.81845894, -2.42520711, -0.18342763,\n",
       "       -1.21972676, -1.45520582,  0.04679973,  1.35366422, -0.59552819,\n",
       "        0.73451578, -0.2923345 ,  0.83728403,  2.01313772,  1.48236711,\n",
       "        3.22809761,  2.59009403,  0.59180353,  3.05525569,  1.52016297,\n",
       "        4.05677715,  2.63932537,  2.77907822,  4.81890314,  4.78652323,\n",
       "        3.59738395,  4.05240223,  2.96950272,  3.86684895,  5.25702254,\n",
       "        4.97803574,  5.34170924,  5.22918326,  5.09105828,  4.358742  ])"
      ]
     },
     "execution_count": 83,
     "metadata": {},
     "output_type": "execute_result"
    }
   ],
   "source": [
    "np.transpose(np.transpose(X)[1])"
   ]
  },
  {
   "cell_type": "code",
   "execution_count": 84,
   "metadata": {},
   "outputs": [
    {
     "name": "stdout",
     "output_type": "stream",
     "text": [
      "Epoch 1/5\n",
      "50/50 [==============================] - 0s 4ms/step - loss: 0.0000e+00 - acc: 0.0000e+00\n",
      "Epoch 2/5\n",
      "50/50 [==============================] - 0s 50us/step - loss: 0.0000e+00 - acc: 0.0000e+00\n",
      "Epoch 3/5\n",
      "50/50 [==============================] - 0s 36us/step - loss: 0.0000e+00 - acc: 0.0000e+00\n",
      "Epoch 4/5\n",
      "50/50 [==============================] - 0s 31us/step - loss: 0.0000e+00 - acc: 0.0000e+00\n",
      "Epoch 5/5\n",
      "50/50 [==============================] - 0s 42us/step - loss: 0.0000e+00 - acc: 0.0000e+00\n"
     ]
    },
    {
     "data": {
      "text/plain": [
       "<keras.callbacks.History at 0x1827cd00d0>"
      ]
     },
     "execution_count": 84,
     "metadata": {},
     "output_type": "execute_result"
    }
   ],
   "source": [
    "# x_train and y_train are Numpy arrays --just like in the Scikit-Learn API.\n",
    "model.fit(X, y, epochs=5, batch_size=50)"
   ]
  },
  {
   "cell_type": "code",
   "execution_count": 18,
   "metadata": {},
   "outputs": [
    {
     "name": "stdout",
     "output_type": "stream",
     "text": [
      "Epoch 1/10\n",
      "1000/1000 [==============================] - 0s 254us/step - loss: 0.7019 - acc: 0.5040\n",
      "Epoch 2/10\n",
      "1000/1000 [==============================] - 0s 69us/step - loss: 0.6923 - acc: 0.5350\n",
      "Epoch 3/10\n",
      "1000/1000 [==============================] - 0s 67us/step - loss: 0.6899 - acc: 0.5460\n",
      "Epoch 4/10\n",
      "1000/1000 [==============================] - 0s 69us/step - loss: 0.6835 - acc: 0.5490\n",
      "Epoch 5/10\n",
      "1000/1000 [==============================] - 0s 65us/step - loss: 0.6803 - acc: 0.5530\n",
      "Epoch 6/10\n",
      "1000/1000 [==============================] - 0s 66us/step - loss: 0.6778 - acc: 0.5690\n",
      "Epoch 7/10\n",
      "1000/1000 [==============================] - 0s 59us/step - loss: 0.6750 - acc: 0.5790\n",
      "Epoch 8/10\n",
      "1000/1000 [==============================] - 0s 64us/step - loss: 0.6723 - acc: 0.5710\n",
      "Epoch 9/10\n",
      "1000/1000 [==============================] - 0s 65us/step - loss: 0.6701 - acc: 0.5880\n",
      "Epoch 10/10\n",
      "1000/1000 [==============================] - 0s 64us/step - loss: 0.6670 - acc: 0.6000\n"
     ]
    },
    {
     "data": {
      "text/plain": [
       "<keras.callbacks.History at 0x1827d10950>"
      ]
     },
     "execution_count": 18,
     "metadata": {},
     "output_type": "execute_result"
    }
   ],
   "source": [
    "# For a single-input model with 2 classes (binary classification):\n",
    "\n",
    "model = Sequential()\n",
    "model.add(Dense(32, activation='relu', input_dim=100))\n",
    "model.add(Dense(1, activation='sigmoid'))\n",
    "model.compile(optimizer='rmsprop',\n",
    "              loss='binary_crossentropy',\n",
    "              metrics=['accuracy'])\n",
    "\n",
    "# Generate dummy data\n",
    "import numpy as np\n",
    "data = np.random.random((1000, 100))\n",
    "labels = np.random.randint(2, size=(1000, 1))\n",
    "\n",
    "# Train the model, iterating on the data in batches of 32 samples\n",
    "model.fit(data, labels, epochs=10, batch_size=32)"
   ]
  },
  {
   "cell_type": "code",
   "execution_count": 19,
   "metadata": {},
   "outputs": [
    {
     "name": "stdout",
     "output_type": "stream",
     "text": [
      "WARNING:tensorflow:From /anaconda2/lib/python2.7/site-packages/keras/backend/tensorflow_backend.py:2857: calling reduce_sum (from tensorflow.python.ops.math_ops) with keep_dims is deprecated and will be removed in a future version.\n",
      "Instructions for updating:\n",
      "keep_dims is deprecated, use keepdims instead\n",
      "Epoch 1/10\n",
      "1000/1000 [==============================] - 0s 223us/step - loss: 2.3657 - acc: 0.0940\n",
      "Epoch 2/10\n",
      "1000/1000 [==============================] - 0s 68us/step - loss: 2.3203 - acc: 0.1050\n",
      "Epoch 3/10\n",
      "1000/1000 [==============================] - 0s 78us/step - loss: 2.3021 - acc: 0.1280\n",
      "Epoch 4/10\n",
      "1000/1000 [==============================] - 0s 75us/step - loss: 2.2916 - acc: 0.1340\n",
      "Epoch 5/10\n",
      "1000/1000 [==============================] - 0s 68us/step - loss: 2.2829 - acc: 0.1300\n",
      "Epoch 6/10\n",
      "1000/1000 [==============================] - 0s 72us/step - loss: 2.2758 - acc: 0.1300\n",
      "Epoch 7/10\n",
      "1000/1000 [==============================] - 0s 70us/step - loss: 2.2686 - acc: 0.1380\n",
      "Epoch 8/10\n",
      "1000/1000 [==============================] - 0s 70us/step - loss: 2.2611 - acc: 0.1400\n",
      "Epoch 9/10\n",
      "1000/1000 [==============================] - 0s 69us/step - loss: 2.2544 - acc: 0.1460\n",
      "Epoch 10/10\n",
      "1000/1000 [==============================] - 0s 81us/step - loss: 2.2452 - acc: 0.1630\n"
     ]
    },
    {
     "data": {
      "text/plain": [
       "<keras.callbacks.History at 0x1827ecec10>"
      ]
     },
     "execution_count": 19,
     "metadata": {},
     "output_type": "execute_result"
    }
   ],
   "source": [
    "# For a single-input model with 10 classes (categorical classification):\n",
    "\n",
    "model = Sequential()\n",
    "model.add(Dense(32, activation='relu', input_dim=100))\n",
    "model.add(Dense(10, activation='softmax'))\n",
    "model.compile(optimizer='rmsprop',\n",
    "              loss='categorical_crossentropy',\n",
    "              metrics=['accuracy'])\n",
    "\n",
    "# Generate dummy data\n",
    "import numpy as np\n",
    "data = np.random.random((1000, 100))\n",
    "labels = np.random.randint(10, size=(1000, 1))\n",
    "\n",
    "# Convert labels to categorical one-hot encoding\n",
    "one_hot_labels = keras.utils.to_categorical(labels, num_classes=10)\n",
    "\n",
    "# Train the model, iterating on the data in batches of 32 samples\n",
    "model.fit(data, one_hot_labels, epochs=10, batch_size=32)"
   ]
  },
  {
   "cell_type": "code",
   "execution_count": 20,
   "metadata": {},
   "outputs": [
    {
     "name": "stdout",
     "output_type": "stream",
     "text": [
      "WARNING:tensorflow:Variable *= will be deprecated. Use variable.assign_mul if you want assignment to the variable value or 'x = x * y' if you want a new python Tensor object.\n",
      "Epoch 1/20\n",
      "1000/1000 [==============================] - 0s 252us/step - loss: 2.3715 - acc: 0.0950\n",
      "Epoch 2/20\n",
      "1000/1000 [==============================] - 0s 24us/step - loss: 2.3602 - acc: 0.0970\n",
      "Epoch 3/20\n",
      "1000/1000 [==============================] - 0s 25us/step - loss: 2.3456 - acc: 0.0900\n",
      "Epoch 4/20\n",
      "1000/1000 [==============================] - 0s 25us/step - loss: 2.3206 - acc: 0.1060\n",
      "Epoch 5/20\n",
      "1000/1000 [==============================] - 0s 27us/step - loss: 2.3140 - acc: 0.1030\n",
      "Epoch 6/20\n",
      "1000/1000 [==============================] - 0s 26us/step - loss: 2.3128 - acc: 0.0910\n",
      "Epoch 7/20\n",
      "1000/1000 [==============================] - 0s 28us/step - loss: 2.3119 - acc: 0.1020\n",
      "Epoch 8/20\n",
      "1000/1000 [==============================] - 0s 39us/step - loss: 2.3086 - acc: 0.1000\n",
      "Epoch 9/20\n",
      "1000/1000 [==============================] - 0s 31us/step - loss: 2.3028 - acc: 0.1160\n",
      "Epoch 10/20\n",
      "1000/1000 [==============================] - 0s 28us/step - loss: 2.3064 - acc: 0.1060\n",
      "Epoch 11/20\n",
      "1000/1000 [==============================] - 0s 27us/step - loss: 2.3040 - acc: 0.0980\n",
      "Epoch 12/20\n",
      "1000/1000 [==============================] - 0s 28us/step - loss: 2.2976 - acc: 0.1270\n",
      "Epoch 13/20\n",
      "1000/1000 [==============================] - 0s 31us/step - loss: 2.3038 - acc: 0.1010\n",
      "Epoch 14/20\n",
      "1000/1000 [==============================] - 0s 27us/step - loss: 2.2989 - acc: 0.1240\n",
      "Epoch 15/20\n",
      "1000/1000 [==============================] - 0s 25us/step - loss: 2.3015 - acc: 0.1150\n",
      "Epoch 16/20\n",
      "1000/1000 [==============================] - 0s 25us/step - loss: 2.2947 - acc: 0.1200\n",
      "Epoch 17/20\n",
      "1000/1000 [==============================] - 0s 33us/step - loss: 2.3025 - acc: 0.1140\n",
      "Epoch 18/20\n",
      "1000/1000 [==============================] - 0s 31us/step - loss: 2.2956 - acc: 0.1310\n",
      "Epoch 19/20\n",
      "1000/1000 [==============================] - 0s 27us/step - loss: 2.3002 - acc: 0.1210\n",
      "Epoch 20/20\n",
      "1000/1000 [==============================] - 0s 29us/step - loss: 2.2935 - acc: 0.1250\n",
      "100/100 [==============================] - 0s 755us/step\n"
     ]
    }
   ],
   "source": [
    "import keras\n",
    "from keras.models import Sequential\n",
    "from keras.layers import Dense, Dropout, Activation\n",
    "from keras.optimizers import SGD\n",
    "\n",
    "# Generate dummy data\n",
    "import numpy as np\n",
    "x_train = np.random.random((1000, 20))\n",
    "y_train = keras.utils.to_categorical(np.random.randint(10, size=(1000, 1)), num_classes=10)\n",
    "x_test = np.random.random((100, 20))\n",
    "y_test = keras.utils.to_categorical(np.random.randint(10, size=(100, 1)), num_classes=10)\n",
    "\n",
    "model = Sequential()\n",
    "# Dense(64) is a fully-connected layer with 64 hidden units.\n",
    "# in the first layer, you must specify the expected input data shape:\n",
    "# here, 20-dimensional vectors.\n",
    "model.add(Dense(64, activation='relu', input_dim=20))\n",
    "model.add(Dropout(0.5))\n",
    "model.add(Dense(64, activation='relu'))\n",
    "model.add(Dropout(0.5))\n",
    "model.add(Dense(10, activation='softmax'))\n",
    "\n",
    "sgd = SGD(lr=0.01, decay=1e-6, momentum=0.9, nesterov=True)\n",
    "model.compile(loss='categorical_crossentropy',\n",
    "              optimizer=sgd,\n",
    "              metrics=['accuracy'])\n",
    "\n",
    "model.fit(x_train, y_train,\n",
    "          epochs=20,\n",
    "          batch_size=128)\n",
    "score = model.evaluate(x_test, y_test, batch_size=128)"
   ]
  },
  {
   "cell_type": "code",
   "execution_count": null,
   "metadata": {
    "collapsed": true
   },
   "outputs": [],
   "source": []
  },
  {
   "cell_type": "code",
   "execution_count": null,
   "metadata": {
    "collapsed": true
   },
   "outputs": [],
   "source": []
  }
 ],
 "metadata": {
  "kernelspec": {
   "display_name": "Python 2",
   "language": "python",
   "name": "python2"
  },
  "language_info": {
   "codemirror_mode": {
    "name": "ipython",
    "version": 2
   },
   "file_extension": ".py",
   "mimetype": "text/x-python",
   "name": "python",
   "nbconvert_exporter": "python",
   "pygments_lexer": "ipython2",
   "version": "2.7.14"
  }
 },
 "nbformat": 4,
 "nbformat_minor": 2
}
