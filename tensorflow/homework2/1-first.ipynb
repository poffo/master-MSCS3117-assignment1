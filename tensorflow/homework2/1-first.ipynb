{
 "cells": [
  {
   "cell_type": "code",
   "execution_count": 242,
   "metadata": {
    "collapsed": true
   },
   "outputs": [],
   "source": [
    "from PIL import Image, ImageFilter\n",
    "from matplotlib import pyplot as plt\n",
    "import numpy as np\n",
    "%matplotlib inline\n",
    "\n",
    "def imageprepare(argv):\n",
    "    \"\"\"\n",
    "    This function returns the pixel values.\n",
    "    The imput is a png file location.\n",
    "    \"\"\"\n",
    "    im = Image.open(argv).convert('L')\n",
    "    width = float(im.size[0])\n",
    "    height = float(im.size[1])\n",
    "    newImage = Image.new('L', (28, 28), (255))  # creates white canvas of 28x28 pixels\n",
    "\n",
    "    if width > height:  # check which dimension is bigger\n",
    "        # Width is bigger. Width becomes 20 pixels.\n",
    "        nheight = int(round((20.0 / width * height), 0))  # resize height according to ratio width\n",
    "        if (nheight == 0):  # rare case but minimum is 1 pixel\n",
    "            nheight = 1\n",
    "            # resize and sharpen\n",
    "        img = im.resize((20, nheight), Image.ANTIALIAS).filter(ImageFilter.SHARPEN)\n",
    "        wtop = int(round(((28 - nheight) / 2), 0))  # calculate horizontal position\n",
    "        newImage.paste(img, (4, wtop))  # paste resized image on white canvas\n",
    "    else:\n",
    "        # Height is bigger. Heigth becomes 20 pixels.\n",
    "        nwidth = int(round((20.0 / height * width), 0))  # resize width according to ratio height\n",
    "        if (nwidth == 0):  # rare case but minimum is 1 pixel\n",
    "            nwidth = 1\n",
    "            # resize and sharpen\n",
    "        img = im.resize((nwidth, 20), Image.ANTIALIAS).filter(ImageFilter.SHARPEN)\n",
    "        wleft = int(round(((28 - nwidth) / 2), 0))  # caculate vertical pozition\n",
    "        newImage.paste(img, (wleft, 4))  # paste resized image on white canvas\n",
    "\n",
    "    # newImage.save(\"sample.png\n",
    "\n",
    "    tv = list(newImage.getdata())  # get pixel values\n",
    "\n",
    "    # normalize pixels to 0 and 1. 0 is pure white, 1 is pure black.\n",
    "    tva = [(255 - x) * 1.0 / 255.0 for x in tv]\n",
    "    return tva"
   ]
  },
  {
   "cell_type": "code",
   "execution_count": 243,
   "metadata": {
    "collapsed": true
   },
   "outputs": [],
   "source": [
    "%matplotlib inline\n",
    "\n",
    "def plotNumber(number):\n",
    "    # We'll show the image and its pixel value histogram side-by-side.\n",
    "    _, (ax1, ax2) = plt.subplots(1, 2)\n",
    "\n",
    "    # To interpret the values as a 28x28 image, we need to reshape\n",
    "    # the numpy array, which is one dimensional.\n",
    "    ax1.imshow(np.asarray(number).reshape(28, 28), cmap=plt.cm.Greys);\n",
    "\n",
    "    ax2.hist(number, bins=20, range=[0,1]);"
   ]
  },
  {
   "cell_type": "code",
   "execution_count": null,
   "metadata": {
    "collapsed": true
   },
   "outputs": [],
   "source": []
  },
  {
   "cell_type": "code",
   "execution_count": 244,
   "metadata": {},
   "outputs": [],
   "source": [
    "from keras.datasets import mnist"
   ]
  },
  {
   "cell_type": "code",
   "execution_count": 168,
   "metadata": {},
   "outputs": [],
   "source": [
    "(train_images, train_labels), (test_images, test_labels) = mnist.load_data()"
   ]
  },
  {
   "cell_type": "code",
   "execution_count": 169,
   "metadata": {},
   "outputs": [
    {
     "data": {
      "text/plain": [
       "(60000, 28, 28)"
      ]
     },
     "execution_count": 169,
     "metadata": {},
     "output_type": "execute_result"
    }
   ],
   "source": [
    "train_images.shape"
   ]
  },
  {
   "cell_type": "code",
   "execution_count": 170,
   "metadata": {},
   "outputs": [
    {
     "data": {
      "text/plain": [
       "60000"
      ]
     },
     "execution_count": 170,
     "metadata": {},
     "output_type": "execute_result"
    }
   ],
   "source": [
    "len(train_labels)"
   ]
  },
  {
   "cell_type": "code",
   "execution_count": 171,
   "metadata": {},
   "outputs": [
    {
     "data": {
      "text/plain": [
       "array([5, 0, 4, ..., 5, 6, 8], dtype=uint8)"
      ]
     },
     "execution_count": 171,
     "metadata": {},
     "output_type": "execute_result"
    }
   ],
   "source": [
    "train_labels"
   ]
  },
  {
   "cell_type": "code",
   "execution_count": 172,
   "metadata": {},
   "outputs": [
    {
     "data": {
      "text/plain": [
       "(10000, 28, 28)"
      ]
     },
     "execution_count": 172,
     "metadata": {},
     "output_type": "execute_result"
    }
   ],
   "source": [
    "test_images.shape"
   ]
  },
  {
   "cell_type": "code",
   "execution_count": 173,
   "metadata": {},
   "outputs": [
    {
     "data": {
      "text/plain": [
       "10000"
      ]
     },
     "execution_count": 173,
     "metadata": {},
     "output_type": "execute_result"
    }
   ],
   "source": [
    "len(test_labels)"
   ]
  },
  {
   "cell_type": "code",
   "execution_count": 174,
   "metadata": {},
   "outputs": [
    {
     "data": {
      "text/plain": [
       "array([7, 2, 1, ..., 4, 5, 6], dtype=uint8)"
      ]
     },
     "execution_count": 174,
     "metadata": {},
     "output_type": "execute_result"
    }
   ],
   "source": [
    "test_labels"
   ]
  },
  {
   "cell_type": "code",
   "execution_count": 175,
   "metadata": {
    "collapsed": true
   },
   "outputs": [],
   "source": [
    "from keras import models\n",
    "from keras import layers\n",
    "\n",
    "network = models.Sequential()\n",
    "network.add(layers.Dense(512, activation='relu', input_shape=(28 * 28,)))\n",
    "network.add(layers.Dense(10, activation='softmax'))"
   ]
  },
  {
   "cell_type": "code",
   "execution_count": 176,
   "metadata": {},
   "outputs": [],
   "source": [
    "network.compile(optimizer='rmsprop', loss='categorical_crossentropy', metrics=['accuracy'])"
   ]
  },
  {
   "cell_type": "code",
   "execution_count": 177,
   "metadata": {
    "collapsed": true
   },
   "outputs": [],
   "source": [
    "train_images = train_images.reshape((60000, 28 * 28))\n",
    "train_images = train_images.astype('float32') / 255\n",
    "test_images = test_images.reshape((10000, 28 * 28))\n",
    "test_images = test_images.astype('float32') / 255"
   ]
  },
  {
   "cell_type": "code",
   "execution_count": 178,
   "metadata": {},
   "outputs": [
    {
     "data": {
      "text/plain": [
       "array([[ 0.,  0.,  0., ...,  0.,  0.,  0.],\n",
       "       [ 0.,  0.,  0., ...,  0.,  0.,  0.],\n",
       "       [ 0.,  0.,  0., ...,  0.,  0.,  0.],\n",
       "       ..., \n",
       "       [ 0.,  0.,  0., ...,  0.,  0.,  0.],\n",
       "       [ 0.,  0.,  0., ...,  0.,  0.,  0.],\n",
       "       [ 0.,  0.,  0., ...,  0.,  0.,  0.]], dtype=float32)"
      ]
     },
     "execution_count": 178,
     "metadata": {},
     "output_type": "execute_result"
    }
   ],
   "source": [
    "train_images"
   ]
  },
  {
   "cell_type": "code",
   "execution_count": 179,
   "metadata": {},
   "outputs": [
    {
     "data": {
      "text/plain": [
       "array([[ 0.,  0.,  0., ...,  0.,  0.,  0.],\n",
       "       [ 0.,  0.,  0., ...,  0.,  0.,  0.],\n",
       "       [ 0.,  0.,  0., ...,  0.,  0.,  0.],\n",
       "       ..., \n",
       "       [ 0.,  0.,  0., ...,  0.,  0.,  0.],\n",
       "       [ 0.,  0.,  0., ...,  0.,  0.,  0.],\n",
       "       [ 0.,  0.,  0., ...,  0.,  0.,  0.]], dtype=float32)"
      ]
     },
     "execution_count": 179,
     "metadata": {},
     "output_type": "execute_result"
    }
   ],
   "source": [
    "test_images"
   ]
  },
  {
   "cell_type": "code",
   "execution_count": 180,
   "metadata": {},
   "outputs": [],
   "source": [
    "from keras.utils import to_categorical\n",
    "train_labels = to_categorical(train_labels)\n",
    "test_labels = to_categorical(test_labels)"
   ]
  },
  {
   "cell_type": "code",
   "execution_count": 181,
   "metadata": {},
   "outputs": [
    {
     "data": {
      "text/plain": [
       "array([[ 0.,  0.,  0., ...,  0.,  0.,  0.],\n",
       "       [ 1.,  0.,  0., ...,  0.,  0.,  0.],\n",
       "       [ 0.,  0.,  0., ...,  0.,  0.,  0.],\n",
       "       ..., \n",
       "       [ 0.,  0.,  0., ...,  0.,  0.,  0.],\n",
       "       [ 0.,  0.,  0., ...,  0.,  0.,  0.],\n",
       "       [ 0.,  0.,  0., ...,  0.,  1.,  0.]])"
      ]
     },
     "execution_count": 181,
     "metadata": {},
     "output_type": "execute_result"
    }
   ],
   "source": [
    "train_labels"
   ]
  },
  {
   "cell_type": "code",
   "execution_count": 182,
   "metadata": {},
   "outputs": [
    {
     "data": {
      "text/plain": [
       "array([[ 0.,  0.,  0., ...,  1.,  0.,  0.],\n",
       "       [ 0.,  0.,  1., ...,  0.,  0.,  0.],\n",
       "       [ 0.,  1.,  0., ...,  0.,  0.,  0.],\n",
       "       ..., \n",
       "       [ 0.,  0.,  0., ...,  0.,  0.,  0.],\n",
       "       [ 0.,  0.,  0., ...,  0.,  0.,  0.],\n",
       "       [ 0.,  0.,  0., ...,  0.,  0.,  0.]])"
      ]
     },
     "execution_count": 182,
     "metadata": {},
     "output_type": "execute_result"
    }
   ],
   "source": [
    "test_labels"
   ]
  },
  {
   "cell_type": "code",
   "execution_count": 183,
   "metadata": {},
   "outputs": [
    {
     "data": {
      "text/plain": [
       "array([ 0.,  0.,  0.,  0.,  0.,  1.,  0.,  0.,  0.,  0.])"
      ]
     },
     "execution_count": 183,
     "metadata": {},
     "output_type": "execute_result"
    }
   ],
   "source": [
    "train_labels[0]"
   ]
  },
  {
   "cell_type": "code",
   "execution_count": 184,
   "metadata": {},
   "outputs": [
    {
     "name": "stdout",
     "output_type": "stream",
     "text": [
      "Epoch 1/100\n",
      "60000/60000 [==============================] - 3s 51us/step - loss: 0.2615 - acc: 0.9234\n",
      "Epoch 2/100\n",
      "60000/60000 [==============================] - 3s 49us/step - loss: 0.1049 - acc: 0.9687\n",
      "Epoch 3/100\n",
      "60000/60000 [==============================] - 3s 48us/step - loss: 0.0683 - acc: 0.9790\n",
      "Epoch 4/100\n",
      "60000/60000 [==============================] - 3s 49us/step - loss: 0.0493 - acc: 0.9853\n",
      "Epoch 5/100\n",
      "60000/60000 [==============================] - 3s 48us/step - loss: 0.0373 - acc: 0.9886\n",
      "Epoch 6/100\n",
      "60000/60000 [==============================] - 3s 47us/step - loss: 0.0287 - acc: 0.9911\n",
      "Epoch 7/100\n",
      "60000/60000 [==============================] - 3s 49us/step - loss: 0.0223 - acc: 0.9935\n",
      "Epoch 8/100\n",
      "60000/60000 [==============================] - 3s 47us/step - loss: 0.0176 - acc: 0.9948\n",
      "Epoch 9/100\n",
      "60000/60000 [==============================] - 3s 47us/step - loss: 0.0132 - acc: 0.9964\n",
      "Epoch 10/100\n",
      "60000/60000 [==============================] - 3s 47us/step - loss: 0.0100 - acc: 0.9971\n",
      "Epoch 11/100\n",
      "60000/60000 [==============================] - 3s 46us/step - loss: 0.0079 - acc: 0.9981\n",
      "Epoch 12/100\n",
      "60000/60000 [==============================] - 3s 49us/step - loss: 0.0061 - acc: 0.9984\n",
      "Epoch 13/100\n",
      "60000/60000 [==============================] - 3s 48us/step - loss: 0.0048 - acc: 0.9987\n",
      "Epoch 14/100\n",
      "60000/60000 [==============================] - 3s 46us/step - loss: 0.0037 - acc: 0.9991\n",
      "Epoch 15/100\n",
      "60000/60000 [==============================] - ETA: 0s - loss: 0.0029 - acc: 0.999 - 3s 48us/step - loss: 0.0029 - acc: 0.9993\n",
      "Epoch 16/100\n",
      "60000/60000 [==============================] - 3s 49us/step - loss: 0.0025 - acc: 0.9993\n",
      "Epoch 17/100\n",
      "60000/60000 [==============================] - 3s 49us/step - loss: 0.0018 - acc: 0.9996\n",
      "Epoch 18/100\n",
      "60000/60000 [==============================] - 3s 49us/step - loss: 0.0014 - acc: 0.9998\n",
      "Epoch 19/100\n",
      "60000/60000 [==============================] - 3s 50us/step - loss: 0.0014 - acc: 0.9997\n",
      "Epoch 20/100\n",
      "60000/60000 [==============================] - 3s 48us/step - loss: 0.0013 - acc: 0.9998\n",
      "Epoch 21/100\n",
      "60000/60000 [==============================] - 3s 48us/step - loss: 0.0012 - acc: 0.9998\n",
      "Epoch 22/100\n",
      "60000/60000 [==============================] - 3s 46us/step - loss: 7.4657e-04 - acc: 0.9999\n",
      "Epoch 23/100\n",
      "60000/60000 [==============================] - 3s 49us/step - loss: 7.5514e-04 - acc: 0.9998\n",
      "Epoch 24/100\n",
      "60000/60000 [==============================] - 3s 49us/step - loss: 6.3667e-04 - acc: 0.9999\n",
      "Epoch 25/100\n",
      "60000/60000 [==============================] - 3s 48us/step - loss: 5.8971e-04 - acc: 0.9999\n",
      "Epoch 26/100\n",
      "60000/60000 [==============================] - 3s 47us/step - loss: 5.4345e-04 - acc: 0.9999\n",
      "Epoch 27/100\n",
      "60000/60000 [==============================] - 3s 47us/step - loss: 4.3857e-04 - acc: 0.9999\n",
      "Epoch 28/100\n",
      "60000/60000 [==============================] - 3s 48us/step - loss: 3.9075e-04 - acc: 1.0000\n",
      "Epoch 29/100\n",
      "60000/60000 [==============================] - 3s 47us/step - loss: 4.3667e-04 - acc: 0.9999\n",
      "Epoch 30/100\n",
      "60000/60000 [==============================] - 3s 47us/step - loss: 4.9036e-04 - acc: 0.9999\n",
      "Epoch 31/100\n",
      "60000/60000 [==============================] - 3s 49us/step - loss: 4.9130e-04 - acc: 0.9999\n",
      "Epoch 32/100\n",
      "60000/60000 [==============================] - 3s 48us/step - loss: 3.9795e-04 - acc: 0.9999\n",
      "Epoch 33/100\n",
      "60000/60000 [==============================] - 3s 46us/step - loss: 3.3191e-04 - acc: 1.0000\n",
      "Epoch 34/100\n",
      "60000/60000 [==============================] - 3s 43us/step - loss: 3.0975e-04 - acc: 1.0000\n",
      "Epoch 35/100\n",
      "60000/60000 [==============================] - 3s 47us/step - loss: 3.2368e-04 - acc: 1.0000\n",
      "Epoch 36/100\n",
      "60000/60000 [==============================] - 3s 49us/step - loss: 3.3860e-04 - acc: 1.0000\n",
      "Epoch 37/100\n",
      "60000/60000 [==============================] - 3s 48us/step - loss: 3.3405e-04 - acc: 1.0000\n",
      "Epoch 38/100\n",
      "60000/60000 [==============================] - 3s 49us/step - loss: 2.8554e-04 - acc: 1.0000\n",
      "Epoch 39/100\n",
      "60000/60000 [==============================] - 3s 48us/step - loss: 3.8955e-04 - acc: 1.0000\n",
      "Epoch 40/100\n",
      "60000/60000 [==============================] - 3s 50us/step - loss: 3.3799e-04 - acc: 1.0000\n",
      "Epoch 41/100\n",
      "60000/60000 [==============================] - 3s 48us/step - loss: 2.7559e-04 - acc: 1.0000\n",
      "Epoch 42/100\n",
      "60000/60000 [==============================] - 3s 47us/step - loss: 2.9626e-04 - acc: 1.0000\n",
      "Epoch 43/100\n",
      "60000/60000 [==============================] - 3s 51us/step - loss: 2.7231e-04 - acc: 1.0000\n",
      "Epoch 44/100\n",
      "60000/60000 [==============================] - 3s 48us/step - loss: 2.8294e-04 - acc: 1.0000\n",
      "Epoch 45/100\n",
      "60000/60000 [==============================] - 3s 45us/step - loss: 3.5764e-04 - acc: 1.0000\n",
      "Epoch 46/100\n",
      "60000/60000 [==============================] - 3s 49us/step - loss: 2.7274e-04 - acc: 1.0000\n",
      "Epoch 47/100\n",
      "60000/60000 [==============================] - 3s 49us/step - loss: 2.7026e-04 - acc: 1.0000\n",
      "Epoch 48/100\n",
      "60000/60000 [==============================] - 3s 48us/step - loss: 2.9157e-04 - acc: 1.0000\n",
      "Epoch 49/100\n",
      "60000/60000 [==============================] - 3s 49us/step - loss: 2.6920e-04 - acc: 1.0000\n",
      "Epoch 50/100\n",
      "60000/60000 [==============================] - 3s 44us/step - loss: 2.6893e-04 - acc: 1.0000\n",
      "Epoch 51/100\n",
      "60000/60000 [==============================] - 3s 47us/step - loss: 2.6897e-04 - acc: 1.0000\n",
      "Epoch 52/100\n",
      "60000/60000 [==============================] - 3s 49us/step - loss: 2.8268e-04 - acc: 1.0000\n",
      "Epoch 53/100\n",
      "60000/60000 [==============================] - 3s 49us/step - loss: 2.6876e-04 - acc: 1.0000\n",
      "Epoch 54/100\n",
      "60000/60000 [==============================] - 3s 48us/step - loss: 2.6875e-04 - acc: 1.0000\n",
      "Epoch 55/100\n",
      "60000/60000 [==============================] - 3s 48us/step - loss: 2.6875e-04 - acc: 1.0000\n",
      "Epoch 56/100\n",
      "60000/60000 [==============================] - 3s 47us/step - loss: 2.6875e-04 - acc: 1.0000\n",
      "Epoch 57/100\n",
      "60000/60000 [==============================] - 3s 47us/step - loss: 2.6875e-04 - acc: 1.0000\n",
      "Epoch 58/100\n",
      "60000/60000 [==============================] - 3s 47us/step - loss: 2.6875e-04 - acc: 1.0000\n",
      "Epoch 59/100\n",
      "60000/60000 [==============================] - 3s 48us/step - loss: 2.6875e-04 - acc: 1.0000\n",
      "Epoch 60/100\n",
      "60000/60000 [==============================] - 3s 46us/step - loss: 2.6875e-04 - acc: 1.0000\n",
      "Epoch 61/100\n",
      "60000/60000 [==============================] - 3s 48us/step - loss: 2.6875e-04 - acc: 1.0000\n",
      "Epoch 62/100\n",
      "60000/60000 [==============================] - 3s 47us/step - loss: 2.6875e-04 - acc: 1.0000\n",
      "Epoch 63/100\n",
      "60000/60000 [==============================] - 3s 46us/step - loss: 2.6875e-04 - acc: 1.0000\n",
      "Epoch 64/100\n",
      "60000/60000 [==============================] - 3s 49us/step - loss: 2.6875e-04 - acc: 1.0000\n",
      "Epoch 65/100\n",
      "60000/60000 [==============================] - 3s 48us/step - loss: 2.6875e-04 - acc: 1.0000\n",
      "Epoch 66/100\n",
      "60000/60000 [==============================] - 3s 48us/step - loss: 2.6875e-04 - acc: 1.0000\n",
      "Epoch 67/100\n",
      "60000/60000 [==============================] - 3s 48us/step - loss: 2.6875e-04 - acc: 1.0000\n",
      "Epoch 68/100\n",
      "60000/60000 [==============================] - 3s 49us/step - loss: 2.6875e-04 - acc: 1.0000\n",
      "Epoch 69/100\n",
      "60000/60000 [==============================] - 3s 50us/step - loss: 2.6875e-04 - acc: 1.0000\n",
      "Epoch 70/100\n",
      "60000/60000 [==============================] - 3s 48us/step - loss: 2.6875e-04 - acc: 1.0000\n",
      "Epoch 71/100\n",
      "60000/60000 [==============================] - 3s 48us/step - loss: 2.6875e-04 - acc: 1.0000\n",
      "Epoch 72/100\n",
      "60000/60000 [==============================] - 3s 48us/step - loss: 2.6875e-04 - acc: 1.0000\n",
      "Epoch 73/100\n",
      "60000/60000 [==============================] - 3s 50us/step - loss: 2.6875e-04 - acc: 1.0000\n",
      "Epoch 74/100\n",
      "60000/60000 [==============================] - 3s 49us/step - loss: 2.6875e-04 - acc: 1.0000\n",
      "Epoch 75/100\n",
      "60000/60000 [==============================] - 3s 49us/step - loss: 2.6875e-04 - acc: 1.0000\n",
      "Epoch 76/100\n",
      "60000/60000 [==============================] - 3s 48us/step - loss: 2.6875e-04 - acc: 1.0000\n",
      "Epoch 77/100\n",
      "60000/60000 [==============================] - 3s 49us/step - loss: 2.6875e-04 - acc: 1.0000\n",
      "Epoch 78/100\n"
     ]
    },
    {
     "name": "stdout",
     "output_type": "stream",
     "text": [
      "60000/60000 [==============================] - 3s 46us/step - loss: 2.6875e-04 - acc: 1.0000\n",
      "Epoch 79/100\n",
      "60000/60000 [==============================] - 3s 47us/step - loss: 2.6875e-04 - acc: 1.0000\n",
      "Epoch 80/100\n",
      "60000/60000 [==============================] - 3s 48us/step - loss: 2.6875e-04 - acc: 1.0000\n",
      "Epoch 81/100\n",
      "60000/60000 [==============================] - 3s 43us/step - loss: 2.6875e-04 - acc: 1.0000\n",
      "Epoch 82/100\n",
      "60000/60000 [==============================] - 3s 50us/step - loss: 2.6875e-04 - acc: 1.0000\n",
      "Epoch 83/100\n",
      "60000/60000 [==============================] - 3s 52us/step - loss: 2.6875e-04 - acc: 1.0000\n",
      "Epoch 84/100\n",
      "60000/60000 [==============================] - 3s 51us/step - loss: 2.6875e-04 - acc: 1.0000\n",
      "Epoch 85/100\n",
      "60000/60000 [==============================] - 3s 48us/step - loss: 2.6875e-04 - acc: 1.0000\n",
      "Epoch 86/100\n",
      "60000/60000 [==============================] - 3s 47us/step - loss: 2.6875e-04 - acc: 1.0000\n",
      "Epoch 87/100\n",
      "60000/60000 [==============================] - 3s 46us/step - loss: 2.6875e-04 - acc: 1.0000\n",
      "Epoch 88/100\n",
      "60000/60000 [==============================] - 3s 45us/step - loss: 2.6875e-04 - acc: 1.0000\n",
      "Epoch 89/100\n",
      "60000/60000 [==============================] - 3s 48us/step - loss: 2.6875e-04 - acc: 1.0000\n",
      "Epoch 90/100\n",
      "60000/60000 [==============================] - 3s 47us/step - loss: 2.6875e-04 - acc: 1.0000\n",
      "Epoch 91/100\n",
      "60000/60000 [==============================] - 3s 47us/step - loss: 2.6875e-04 - acc: 1.0000\n",
      "Epoch 92/100\n",
      "60000/60000 [==============================] - 3s 47us/step - loss: 2.6875e-04 - acc: 1.0000\n",
      "Epoch 93/100\n",
      "60000/60000 [==============================] - 3s 47us/step - loss: 2.6875e-04 - acc: 1.0000\n",
      "Epoch 94/100\n",
      "60000/60000 [==============================] - 3s 48us/step - loss: 2.6875e-04 - acc: 1.0000\n",
      "Epoch 95/100\n",
      "60000/60000 [==============================] - 3s 46us/step - loss: 2.6875e-04 - acc: 1.0000\n",
      "Epoch 96/100\n",
      "60000/60000 [==============================] - 3s 47us/step - loss: 2.6875e-04 - acc: 1.0000\n",
      "Epoch 97/100\n",
      "60000/60000 [==============================] - 3s 46us/step - loss: 2.6875e-04 - acc: 1.0000\n",
      "Epoch 98/100\n",
      "60000/60000 [==============================] - 3s 49us/step - loss: 2.6875e-04 - acc: 1.0000\n",
      "Epoch 99/100\n",
      "60000/60000 [==============================] - 3s 46us/step - loss: 2.6875e-04 - acc: 1.0000\n",
      "Epoch 100/100\n",
      "60000/60000 [==============================] - 3s 45us/step - loss: 2.6875e-04 - acc: 1.0000\n"
     ]
    },
    {
     "data": {
      "text/plain": [
       "<keras.callbacks.History at 0x1837556350>"
      ]
     },
     "execution_count": 184,
     "metadata": {},
     "output_type": "execute_result"
    }
   ],
   "source": [
    "network.fit(train_images, train_labels, epochs=100, batch_size=128)"
   ]
  },
  {
   "cell_type": "code",
   "execution_count": 185,
   "metadata": {},
   "outputs": [
    {
     "name": "stdout",
     "output_type": "stream",
     "text": [
      "10000/10000 [==============================] - 1s 62us/step\n",
      "('test_acc:', 0.98350000000000004)\n"
     ]
    }
   ],
   "source": [
    "test_loss, test_acc = network.evaluate(test_images, test_labels)\n",
    "print('test_acc:', test_acc)"
   ]
  },
  {
   "cell_type": "code",
   "execution_count": null,
   "metadata": {
    "collapsed": true
   },
   "outputs": [],
   "source": []
  },
  {
   "cell_type": "code",
   "execution_count": 186,
   "metadata": {},
   "outputs": [
    {
     "data": {
      "text/plain": [
       "2"
      ]
     },
     "execution_count": 186,
     "metadata": {},
     "output_type": "execute_result"
    }
   ],
   "source": [
    "test_labels.ndim"
   ]
  },
  {
   "cell_type": "code",
   "execution_count": 187,
   "metadata": {},
   "outputs": [
    {
     "data": {
      "text/plain": [
       "(10000, 10)"
      ]
     },
     "execution_count": 187,
     "metadata": {},
     "output_type": "execute_result"
    }
   ],
   "source": [
    "test_labels.shape"
   ]
  },
  {
   "cell_type": "code",
   "execution_count": null,
   "metadata": {
    "collapsed": true
   },
   "outputs": [],
   "source": []
  },
  {
   "cell_type": "code",
   "execution_count": null,
   "metadata": {
    "collapsed": true
   },
   "outputs": [],
   "source": []
  },
  {
   "cell_type": "code",
   "execution_count": 188,
   "metadata": {
    "collapsed": true
   },
   "outputs": [],
   "source": [
    "imageIndex = 99\n",
    "size=14\n",
    "size=28"
   ]
  },
  {
   "cell_type": "code",
   "execution_count": 189,
   "metadata": {},
   "outputs": [],
   "source": [
    "digit = train_images[imageIndex].reshape(1,28,28)[:, 7:-7, 7:-7]"
   ]
  },
  {
   "cell_type": "code",
   "execution_count": 190,
   "metadata": {},
   "outputs": [
    {
     "data": {
      "text/plain": [
       "(1, 28, 28)"
      ]
     },
     "execution_count": 190,
     "metadata": {},
     "output_type": "execute_result"
    }
   ],
   "source": [
    "digit = train_images[imageIndex].reshape(1,28,28)\n",
    "digit.shape"
   ]
  },
  {
   "cell_type": "code",
   "execution_count": 191,
   "metadata": {},
   "outputs": [
    {
     "data": {
      "image/png": "[encoded data removed]",
      "text/plain": [
       "<matplotlib.figure.Figure at 0x1837729910>"
      ]
     },
     "metadata": {},
     "output_type": "display_data"
    }
   ],
   "source": [
    "%matplotlib inline\n",
    "\n",
    "import numpy as np\n",
    "import matplotlib.pyplot as plt\n",
    "plt.imshow(np.asarray(digit).reshape(size, size), cmap=plt.cm.binary)\n",
    "plt.show()"
   ]
  },
  {
   "cell_type": "code",
   "execution_count": null,
   "metadata": {
    "collapsed": true
   },
   "outputs": [],
   "source": []
  },
  {
   "cell_type": "code",
   "execution_count": 192,
   "metadata": {},
   "outputs": [],
   "source": [
    "rob = np.asarray([train_images[imageIndex]])"
   ]
  },
  {
   "cell_type": "code",
   "execution_count": 193,
   "metadata": {},
   "outputs": [
    {
     "data": {
      "text/plain": [
       "(1, 784)"
      ]
     },
     "execution_count": 193,
     "metadata": {},
     "output_type": "execute_result"
    }
   ],
   "source": [
    "rob.shape"
   ]
  },
  {
   "cell_type": "code",
   "execution_count": 194,
   "metadata": {},
   "outputs": [],
   "source": [
    "result = network.predict(rob)"
   ]
  },
  {
   "cell_type": "code",
   "execution_count": 195,
   "metadata": {},
   "outputs": [
    {
     "data": {
      "text/plain": [
       "array([[  6.10471502e-33,   1.00000000e+00,   1.08992193e-21,\n",
       "          8.52036436e-24,   9.16892307e-16,   1.29903087e-32,\n",
       "          2.93012171e-35,   1.28078090e-13,   5.46331921e-20,\n",
       "          1.05550021e-25]], dtype=float32)"
      ]
     },
     "execution_count": 195,
     "metadata": {},
     "output_type": "execute_result"
    }
   ],
   "source": [
    "result"
   ]
  },
  {
   "cell_type": "code",
   "execution_count": 196,
   "metadata": {},
   "outputs": [
    {
     "data": {
      "text/plain": [
       "1"
      ]
     },
     "execution_count": 196,
     "metadata": {},
     "output_type": "execute_result"
    }
   ],
   "source": [
    "np.argmax(result, axis=None, out=None)"
   ]
  },
  {
   "cell_type": "code",
   "execution_count": null,
   "metadata": {
    "collapsed": true
   },
   "outputs": [],
   "source": []
  },
  {
   "cell_type": "code",
   "execution_count": 245,
   "metadata": {},
   "outputs": [],
   "source": [
    "t1 = imageprepare(\"my-1.png\")\n",
    "t2 = imageprepare(\"my-2.png\")\n",
    "t8 = imageprepare(\"my-8.png\")"
   ]
  },
  {
   "cell_type": "code",
   "execution_count": null,
   "metadata": {},
   "outputs": [],
   "source": []
  },
  {
   "cell_type": "code",
   "execution_count": 246,
   "metadata": {
    "collapsed": true
   },
   "outputs": [],
   "source": [
    "t1_ready = np.asarray([t1])\n",
    "t2_ready = np.asarray([t2])\n",
    "t8_ready = np.asarray([t8])"
   ]
  },
  {
   "cell_type": "code",
   "execution_count": 247,
   "metadata": {
    "collapsed": true
   },
   "outputs": [],
   "source": [
    "t1_result = network.predict(t1_ready)\n",
    "t2_result = network.predict(t2_ready)\n",
    "t8_result = network.predict(t8_ready)"
   ]
  },
  {
   "cell_type": "code",
   "execution_count": 248,
   "metadata": {},
   "outputs": [
    {
     "data": {
      "text/plain": [
       "array([[  5.20453563e-18,   9.88194823e-01,   3.45139646e-11,\n",
       "          3.44481978e-11,   4.24241839e-14,   1.59785041e-13,\n",
       "          1.33318010e-22,   5.65531511e-10,   4.77060936e-13,\n",
       "          1.18051795e-02]], dtype=float32)"
      ]
     },
     "execution_count": 248,
     "metadata": {},
     "output_type": "execute_result"
    }
   ],
   "source": [
    "t1_result"
   ]
  },
  {
   "cell_type": "code",
   "execution_count": 249,
   "metadata": {},
   "outputs": [
    {
     "data": {
      "text/plain": [
       "array([[  8.44773350e-33,   5.94560954e-24,   1.00000000e+00,\n",
       "          1.55972279e-29,   1.43844044e-38,   6.09975540e-26,\n",
       "          3.89288969e-34,   1.40285101e-19,   7.95144191e-29,\n",
       "          0.00000000e+00]], dtype=float32)"
      ]
     },
     "execution_count": 249,
     "metadata": {},
     "output_type": "execute_result"
    }
   ],
   "source": [
    "t2_result"
   ]
  },
  {
   "cell_type": "code",
   "execution_count": 250,
   "metadata": {},
   "outputs": [
    {
     "data": {
      "text/plain": [
       "array([[  2.50019699e-10,   5.01413623e-19,   6.34598693e-11,\n",
       "          1.76803288e-13,   7.48191553e-09,   2.66634190e-04,\n",
       "          7.42292339e-10,   2.21412081e-19,   9.99733388e-01,\n",
       "          6.62374344e-13]], dtype=float32)"
      ]
     },
     "execution_count": 250,
     "metadata": {},
     "output_type": "execute_result"
    }
   ],
   "source": [
    "t8_result"
   ]
  },
  {
   "cell_type": "code",
   "execution_count": 251,
   "metadata": {},
   "outputs": [
    {
     "data": {
      "text/plain": [
       "1"
      ]
     },
     "execution_count": 251,
     "metadata": {},
     "output_type": "execute_result"
    }
   ],
   "source": [
    "np.argmax(t1_result, axis=None, out=None)"
   ]
  },
  {
   "cell_type": "code",
   "execution_count": 252,
   "metadata": {},
   "outputs": [
    {
     "data": {
      "text/plain": [
       "2"
      ]
     },
     "execution_count": 252,
     "metadata": {},
     "output_type": "execute_result"
    }
   ],
   "source": [
    "np.argmax(t2_result)"
   ]
  },
  {
   "cell_type": "code",
   "execution_count": 253,
   "metadata": {},
   "outputs": [
    {
     "data": {
      "text/plain": [
       "8"
      ]
     },
     "execution_count": 253,
     "metadata": {},
     "output_type": "execute_result"
    }
   ],
   "source": [
    "np.argmax(t8_result)"
   ]
  },
  {
   "cell_type": "code",
   "execution_count": 254,
   "metadata": {},
   "outputs": [
    {
     "data": {
      "image/png": "[encoded data removed]",
      "text/plain": [
       "<matplotlib.figure.Figure at 0x18559f5390>"
      ]
     },
     "metadata": {},
     "output_type": "display_data"
    }
   ],
   "source": [
    "plotNumber(t1)"
   ]
  },
  {
   "cell_type": "code",
   "execution_count": 255,
   "metadata": {},
   "outputs": [
    {
     "data": {
      "image/png": "[encoded data removed]",
      "text/plain": [
       "<matplotlib.figure.Figure at 0x18378e5690>"
      ]
     },
     "metadata": {},
     "output_type": "display_data"
    }
   ],
   "source": [
    "plotNumber(t2)"
   ]
  },
  {
   "cell_type": "code",
   "execution_count": 256,
   "metadata": {},
   "outputs": [
    {
     "data": {
      "image/png": "[encoded data removed]",
      "text/plain": [
       "<matplotlib.figure.Figure at 0x1837854390>"
      ]
     },
     "metadata": {},
     "output_type": "display_data"
    }
   ],
   "source": [
    "plotNumber(t8)"
   ]
  },
  {
   "cell_type": "code",
   "execution_count": null,
   "metadata": {
    "collapsed": true
   },
   "outputs": [],
   "source": []
  }
 ],
 "metadata": {
  "kernelspec": {
   "display_name": "Python 2",
   "language": "python",
   "name": "python2"
  },
  "language_info": {
   "codemirror_mode": {
    "name": "ipython",
    "version": 2
   },
   "file_extension": ".py",
   "mimetype": "text/x-python",
   "name": "python",
   "nbconvert_exporter": "python",
   "pygments_lexer": "ipython2",
   "version": "2.7.14"
  }
 },
 "nbformat": 4,
 "nbformat_minor": 2
}
